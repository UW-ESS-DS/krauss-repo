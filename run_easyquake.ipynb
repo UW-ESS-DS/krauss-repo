{
 "cells": [
  {
   "cell_type": "code",
   "execution_count": 16,
   "id": "397c8c6e",
   "metadata": {},
   "outputs": [],
   "source": [
    "from obspy.clients.fdsn import Client\n",
    "from obspy.core.utcdatetime import UTCDateTime\n",
    "from obspy import read, read_inventory\n",
    "from obspy.core import inventory\n",
    "import numpy as np\n",
    "import matplotlib as plt\n",
    "import scipy.io as sio\n",
    "client = Client(\"IRIS\")\n",
    "    \n",
    "t_start = '2020-08-14T10:00:00.0Z'\n",
    "t_final = '2020-08-14T12:00:00.0Z'"
   ]
  },
  {
   "cell_type": "code",
   "execution_count": 36,
   "id": "88c3f08e",
   "metadata": {},
   "outputs": [],
   "source": [
    "def get_trace(t_start,t_final):\n",
    "    ## Reads in a start and end time string in the format '2020-08-14T10:00:00.0Z'\n",
    "    ## Retrieves waveforms as a Stream object from IRIS DMC using ObsPy \"\"\"\n",
    "    ## Saves waveform and station metadata and response data in a dictionary \"\"\"\n",
    "    ## Saves that dictionary as a .mat file to be accessed in matlab \"\"\"\n",
    "    \n",
    "    ## Internal specifications:\n",
    "    ## station codes, station locations, station channels, station names\n",
    "\n",
    "    # Initialize\n",
    "    location = ['','','','','','','W3','W3','W3','','','','','','','','','']\n",
    "    stationcode = ['NCHR','NCHR','NCHR','KEMF','KEMF','KEMF','KEMF','KEMF','KEMF','KEMO','KEMO','KEMO','ENWF','ENWF','ENWF','ENHR','ENHR','ENHR']\n",
    "    # BEFORE NOV 11 2018:\n",
    "    channel = ['EH*','EH*','CN*','EH*','HH*','HH*',]\n",
    "    location = ['','','W3','','','',]\n",
    "    stationcode = ['NCHR','KEMF','KEMF','KEMO','ENWF','ENHR']\n",
    "    stationname = ['NCHR','KEMF','KEMF_W3','KEMO','ENWF','ENHR']\n",
    "    # AFTER NOV 11 2018:\n",
    "    # channel = ['EH*','CN*','EH*','HH*','HH*',]\n",
    "    # location = ['','W3','','','',]\n",
    "    # stationcode = ['NCHR','KEMF','KEMO','ENWF','ENHR']\n",
    "    # stationname = ['NCHR','KEMF_W3','KEMO','ENWF','ENHR']\n",
    "    # location = ['']\n",
    "    # stationcode = ['KEMF']\n",
    "    # channel = ['EH*']\n",
    "    # stationname = ['KEMF']\n",
    "    \n",
    "\n",
    "\n",
    "    t_start = UTCDateTime(t_start)\n",
    "    t_final = UTCDateTime(t_final)\n",
    "    \n",
    "    # AFTER SEPTEMBER 10 2020 (KEMO comes back online with new channels)\n",
    "    if t_start > UTCDateTime(\"2020-09-10T00:00:00.0\"):\n",
    "        channel = ['EH*','EH*','CN*','HH*','HH*','HH*',]\n",
    "\n",
    "    # Loop through stations\n",
    "    stations = []; sampleRate = []; sampleCount = []; locations = [];\n",
    "    channels = []; stime = []; etime = []; data = []; networks = [];\n",
    "    sensitivityFrequency = []; sensitivity = [];\n",
    "    for i in range(len(channel)):\n",
    "        try:\n",
    "            stream = client.get_waveforms(network='NV',station=stationcode[i],location=location[i],channel=channel[i],starttime = t_start,endtime = t_final,attach_response=True)\n",
    "            for j in range(len(stream)):\n",
    "                if i==1:\n",
    "                    master_stream = stream\n",
    "                else:\n",
    "                    master_stream = master_stream.append(trace)\n",
    "                trace = stream[j]\n",
    "                resp = trace.stats.response._get_overall_sensitivity_and_gain()\n",
    "                stations.append(trace.stats.station)\n",
    "                sampleRate.append(trace.stats.sampling_rate)\n",
    "                sampleCount.append(trace.stats.npts)\n",
    "                locations.append(trace.stats.location)\n",
    "                channels.append(trace.stats.channel)\n",
    "                stime.append(trace.stats.starttime.strftime(\"%Y-%m-%d:%H:%M:%S.%f\"))\n",
    "                etime.append(trace.stats.endtime.strftime(\"%Y-%m-%d:%H:%M:%S.%f\")) \n",
    "                data.append(trace.data)\n",
    "                networks.append(trace.stats.network)\n",
    "                sensitivityFrequency.append(resp[0])\n",
    "                sensitivity.append(resp[1])\n",
    "                print('Found data for ',stationname[i],' ',trace.stats.channel)\n",
    "        except:\n",
    "           print('No data for station',stationname[i])\n",
    "           continue\n",
    "\n",
    "    # Save traces\n",
    "    trace_dict = {'network': networks, 'station': \tstations,'location':locations,'channel':channels,'sensitivity':sensitivity,'sensitivityFrequency':sensitivityFrequency,'data':data,'sampleCount':sampleCount,'sampleRate':sampleRate,'startTime':stime,'endTime':etime}\n",
    "\n",
    "    return(master_stream)\n",
    "\n",
    "def save_miniseed(stream,dirname):\n",
    "    filename = stream[1].stats.network + '_' + stream[1].stats.starttime.strftime(\"%Y%m%d\")\n",
    "    print(dirname+filename+'.mseed')\n",
    "    stream.write(dirname+filename+'.mseed', format='MSEED') \n"
   ]
  },
  {
   "cell_type": "code",
   "execution_count": 29,
   "id": "630c0782",
   "metadata": {},
   "outputs": [
    {
     "name": "stdout",
     "output_type": "stream",
     "text": [
      "No data for station NCHR\n",
      "Found data for  KEMF   EHE\n",
      "Found data for  KEMF   EHN\n",
      "Found data for  KEMF   EHZ\n",
      "Found data for  KEMF_W3   CN1\n",
      "Found data for  KEMF_W3   CN2\n",
      "Found data for  KEMF_W3   CN3\n",
      "No data for station KEMO\n",
      "Found data for  ENWF   HHE\n",
      "Found data for  ENWF   HHN\n",
      "Found data for  ENWF   HHZ\n",
      "No data for station ENHR\n"
     ]
    },
    {
     "name": "stderr",
     "output_type": "stream",
     "text": [
      "/Users/zoekrauss/anaconda3/envs/autolocate/lib/python3.6/site-packages/numpy/core/_asarray.py:83: VisibleDeprecationWarning: Creating an ndarray from ragged nested sequences (which is a list-or-tuple of lists-or-tuples-or ndarrays with different lengths or shapes) is deprecated. If you meant to do this, you must specify 'dtype=object' when creating the ndarray\n",
      "  return array(a, dtype, copy=False, order=order)\n"
     ]
    },
    {
     "data": {
      "text/plain": [
       "(9,)"
      ]
     },
     "execution_count": 29,
     "metadata": {},
     "output_type": "execute_result"
    }
   ],
   "source": [
    "test = get_trace(t_start,t_final)\n",
    "np.shape(test)"
   ]
  },
  {
   "cell_type": "code",
   "execution_count": 38,
   "id": "b7ee3e60",
   "metadata": {},
   "outputs": [
    {
     "name": "stdout",
     "output_type": "stream",
     "text": [
      "Users/zoekrauss/krauss-repo/test_easyquake/NV_20200814.mseed\n"
     ]
    }
   ],
   "source": [
    "save_miniseed(test,'test_easyquake/')"
   ]
  },
  {
   "cell_type": "code",
   "execution_count": 71,
   "id": "77073cb2",
   "metadata": {
    "scrolled": true
   },
   "outputs": [
    {
     "name": "stdout",
     "output_type": "stream",
     "text": [
      "2017-08-03\n",
      "KEMO\n",
      "NCHR\n",
      "KEMO\n",
      "NCHR\n",
      "NCHR\n",
      "KEMO\n"
     ]
    },
    {
     "ename": "FileNotFoundError",
     "evalue": "[Errno 2] No such file or directory: 'test_easyquake/20170803/gpd_picks.out'",
     "output_type": "error",
     "traceback": [
      "\u001b[0;31m---------------------------------------------------------------------------\u001b[0m",
      "\u001b[0;31mFileNotFoundError\u001b[0m                         Traceback (most recent call last)",
      "\u001b[0;32m<ipython-input-71-092663bd6a8f>\u001b[0m in \u001b[0;36m<module>\u001b[0;34m\u001b[0m\n\u001b[1;32m     28\u001b[0m     \u001b[0mdirname\u001b[0m \u001b[0;34m=\u001b[0m \u001b[0msingle_date\u001b[0m\u001b[0;34m.\u001b[0m\u001b[0mstrftime\u001b[0m\u001b[0;34m(\u001b[0m\u001b[0;34m\"%Y%m%d\"\u001b[0m\u001b[0;34m)\u001b[0m\u001b[0;34m\u001b[0m\u001b[0m\n\u001b[1;32m     29\u001b[0m     \u001b[0;31m# download_mseed(dirname=dirname, project_folder=project_folder, single_date=single_date, minlat=lat_a, maxlat=lat_b, minlon=lon_a, maxlon=lon_b)\u001b[0m\u001b[0;34m\u001b[0m\u001b[0;34m\u001b[0m\u001b[0m\n\u001b[0;32m---> 30\u001b[0;31m     \u001b[0mdetection_continuous\u001b[0m\u001b[0;34m(\u001b[0m\u001b[0mdirname\u001b[0m\u001b[0;34m=\u001b[0m\u001b[0mdirname\u001b[0m\u001b[0;34m,\u001b[0m \u001b[0mproject_folder\u001b[0m\u001b[0;34m=\u001b[0m\u001b[0mproject_folder\u001b[0m\u001b[0;34m,\u001b[0m \u001b[0mproject_code\u001b[0m\u001b[0;34m=\u001b[0m\u001b[0mproject_code\u001b[0m\u001b[0;34m,\u001b[0m \u001b[0msingle_date\u001b[0m\u001b[0;34m=\u001b[0m\u001b[0msingle_date\u001b[0m\u001b[0;34m,\u001b[0m \u001b[0mmachine\u001b[0m\u001b[0;34m=\u001b[0m\u001b[0;32mTrue\u001b[0m\u001b[0;34m,\u001b[0m\u001b[0mlocal\u001b[0m\u001b[0;34m=\u001b[0m\u001b[0;32mTrue\u001b[0m\u001b[0;34m,\u001b[0m\u001b[0mmachine_picker\u001b[0m \u001b[0;34m=\u001b[0m \u001b[0;34m'EQTransformer'\u001b[0m\u001b[0;34m)\u001b[0m\u001b[0;34m\u001b[0m\u001b[0m\n\u001b[0m\u001b[1;32m     31\u001b[0m     \u001b[0minput\u001b[0m\u001b[0;34m(\u001b[0m\u001b[0;34m'It worked! Press any key'\u001b[0m\u001b[0;34m)\u001b[0m\u001b[0;34m\u001b[0m\u001b[0m\n\u001b[1;32m     32\u001b[0m     \u001b[0massociation_continuous\u001b[0m\u001b[0;34m(\u001b[0m\u001b[0mdirname\u001b[0m\u001b[0;34m=\u001b[0m\u001b[0mdirname\u001b[0m\u001b[0;34m,\u001b[0m \u001b[0mproject_folder\u001b[0m\u001b[0;34m=\u001b[0m\u001b[0mproject_folder\u001b[0m\u001b[0;34m,\u001b[0m \u001b[0mproject_code\u001b[0m\u001b[0;34m=\u001b[0m\u001b[0mproject_code\u001b[0m\u001b[0;34m,\u001b[0m \u001b[0mmaxdist\u001b[0m\u001b[0;34m=\u001b[0m\u001b[0mmaxdist\u001b[0m\u001b[0;34m,\u001b[0m \u001b[0mmaxkm\u001b[0m\u001b[0;34m=\u001b[0m\u001b[0mmaxkm\u001b[0m\u001b[0;34m,\u001b[0m \u001b[0msingle_date\u001b[0m\u001b[0;34m=\u001b[0m\u001b[0msingle_date\u001b[0m\u001b[0;34m,\u001b[0m \u001b[0mlocal\u001b[0m\u001b[0;34m=\u001b[0m\u001b[0;32mTrue\u001b[0m\u001b[0;34m)\u001b[0m\u001b[0;34m\u001b[0m\u001b[0m\n",
      "\u001b[0;32m~/anaconda3/envs/autolocate/lib/python3.6/site-packages/easyQuake/easyQuake.py\u001b[0m in \u001b[0;36mdetection_continuous\u001b[0;34m(dirname, project_folder, project_code, local, machine, machine_picker, single_date, latitude, longitude, max_radius)\u001b[0m\n\u001b[1;32m    530\u001b[0m         \u001b[0mfullpath2\u001b[0m \u001b[0;34m=\u001b[0m \u001b[0mpathEQT\u001b[0m\u001b[0;34m+\u001b[0m\u001b[0;34m'/mseed_predictor.py'\u001b[0m\u001b[0;34m\u001b[0m\u001b[0m\n\u001b[1;32m    531\u001b[0m         \u001b[0mos\u001b[0m\u001b[0;34m.\u001b[0m\u001b[0msystem\u001b[0m\u001b[0;34m(\u001b[0m\u001b[0mfullpath2\u001b[0m\u001b[0;34m+\u001b[0m\u001b[0;34m\" -I %s -O %s -F %s\"\u001b[0m \u001b[0;34m%\u001b[0m \u001b[0;34m(\u001b[0m\u001b[0minfile\u001b[0m\u001b[0;34m,\u001b[0m \u001b[0moutfile\u001b[0m\u001b[0;34m,\u001b[0m \u001b[0mpathEQT\u001b[0m\u001b[0;34m)\u001b[0m\u001b[0;34m)\u001b[0m\u001b[0;34m\u001b[0m\u001b[0m\n\u001b[0;32m--> 532\u001b[0;31m         \u001b[0mgpd_pick_add\u001b[0m\u001b[0;34m(\u001b[0m\u001b[0mdbsession\u001b[0m\u001b[0;34m=\u001b[0m\u001b[0msession\u001b[0m\u001b[0;34m,\u001b[0m\u001b[0mfileinput\u001b[0m\u001b[0;34m=\u001b[0m\u001b[0mfileinassociate\u001b[0m\u001b[0;34m,\u001b[0m\u001b[0minventory\u001b[0m\u001b[0;34m=\u001b[0m\u001b[0minv\u001b[0m\u001b[0;34m)\u001b[0m\u001b[0;34m\u001b[0m\u001b[0m\n\u001b[0m\u001b[1;32m    533\u001b[0m     \u001b[0;32melse\u001b[0m\u001b[0;34m:\u001b[0m\u001b[0;34m\u001b[0m\u001b[0m\n\u001b[1;32m    534\u001b[0m         \u001b[0mpicker\u001b[0m \u001b[0;34m=\u001b[0m \u001b[0mfbpicker\u001b[0m\u001b[0;34m.\u001b[0m\u001b[0mFBPicker\u001b[0m\u001b[0;34m(\u001b[0m\u001b[0mt_long\u001b[0m \u001b[0;34m=\u001b[0m \u001b[0;36m5\u001b[0m\u001b[0;34m,\u001b[0m \u001b[0mfreqmin\u001b[0m \u001b[0;34m=\u001b[0m \u001b[0;36m1\u001b[0m\u001b[0;34m,\u001b[0m \u001b[0mmode\u001b[0m \u001b[0;34m=\u001b[0m \u001b[0;34m'rms'\u001b[0m\u001b[0;34m,\u001b[0m \u001b[0mt_ma\u001b[0m \u001b[0;34m=\u001b[0m \u001b[0;36m20\u001b[0m\u001b[0;34m,\u001b[0m \u001b[0mnsigma\u001b[0m \u001b[0;34m=\u001b[0m \u001b[0;36m7\u001b[0m\u001b[0;34m,\u001b[0m \u001b[0mt_up\u001b[0m \u001b[0;34m=\u001b[0m \u001b[0;36m0.7\u001b[0m\u001b[0;34m,\u001b[0m \u001b[0mnr_len\u001b[0m \u001b[0;34m=\u001b[0m \u001b[0;36m2\u001b[0m\u001b[0;34m,\u001b[0m \u001b[0mnr_coeff\u001b[0m \u001b[0;34m=\u001b[0m \u001b[0;36m2\u001b[0m\u001b[0;34m,\u001b[0m \u001b[0mpol_len\u001b[0m \u001b[0;34m=\u001b[0m \u001b[0;36m10\u001b[0m\u001b[0;34m,\u001b[0m \u001b[0mpol_coeff\u001b[0m \u001b[0;34m=\u001b[0m \u001b[0;36m10\u001b[0m\u001b[0;34m,\u001b[0m \u001b[0muncert_coeff\u001b[0m \u001b[0;34m=\u001b[0m \u001b[0;36m3\u001b[0m\u001b[0;34m)\u001b[0m\u001b[0;34m\u001b[0m\u001b[0m\n",
      "\u001b[0;32m~/anaconda3/envs/autolocate/lib/python3.6/site-packages/easyQuake/easyQuake.py\u001b[0m in \u001b[0;36mgpd_pick_add\u001b[0;34m(dbsession, fileinput, inventory)\u001b[0m\n\u001b[1;32m    343\u001b[0m \u001b[0;32mdef\u001b[0m \u001b[0mgpd_pick_add\u001b[0m\u001b[0;34m(\u001b[0m\u001b[0mdbsession\u001b[0m\u001b[0;34m=\u001b[0m\u001b[0;32mNone\u001b[0m\u001b[0;34m,\u001b[0m\u001b[0mfileinput\u001b[0m\u001b[0;34m=\u001b[0m\u001b[0;32mNone\u001b[0m\u001b[0;34m,\u001b[0m\u001b[0minventory\u001b[0m\u001b[0;34m=\u001b[0m\u001b[0;32mNone\u001b[0m\u001b[0;34m)\u001b[0m\u001b[0;34m:\u001b[0m\u001b[0;34m\u001b[0m\u001b[0m\n\u001b[1;32m    344\u001b[0m     \u001b[0mfilepath\u001b[0m \u001b[0;34m=\u001b[0m \u001b[0mfileinput\u001b[0m\u001b[0;34m\u001b[0m\u001b[0m\n\u001b[0;32m--> 345\u001b[0;31m     \u001b[0;32mwith\u001b[0m \u001b[0mopen\u001b[0m\u001b[0;34m(\u001b[0m\u001b[0mfilepath\u001b[0m\u001b[0;34m)\u001b[0m \u001b[0;32mas\u001b[0m \u001b[0mfp\u001b[0m\u001b[0;34m:\u001b[0m\u001b[0;34m\u001b[0m\u001b[0m\n\u001b[0m\u001b[1;32m    346\u001b[0m         \u001b[0mline\u001b[0m \u001b[0;34m=\u001b[0m \u001b[0mfp\u001b[0m\u001b[0;34m.\u001b[0m\u001b[0mreadline\u001b[0m\u001b[0;34m(\u001b[0m\u001b[0;34m)\u001b[0m\u001b[0;34m\u001b[0m\u001b[0m\n\u001b[1;32m    347\u001b[0m         \u001b[0mcnt\u001b[0m \u001b[0;34m=\u001b[0m \u001b[0;36m1\u001b[0m\u001b[0;34m\u001b[0m\u001b[0m\n",
      "\u001b[0;31mFileNotFoundError\u001b[0m: [Errno 2] No such file or directory: 'test_easyquake/20170803/gpd_picks.out'"
     ]
    }
   ],
   "source": [
    "from easyQuake import download_mseed\n",
    "from easyQuake import daterange\n",
    "from datetime import date\n",
    "from easyQuake import combine_associated\n",
    "from easyQuake import detection_continuous\n",
    "from easyQuake import association_continuous\n",
    "\n",
    "from easyQuake import magnitude_quakeml\n",
    "from easyQuake import simple_cat_df\n",
    "\n",
    "import matplotlib.pyplot as plt\n",
    "maxkm = 300\n",
    "maxdist=300\n",
    "lat_a = 47.5\n",
    "lat_b = 48.5\n",
    "lon_a = -129.4\n",
    "lon_b = -128.8\n",
    "\n",
    "\n",
    "start_date = date(2017, 8, 3)\n",
    "end_date = date(2017, 8, 30)\n",
    "\n",
    "\n",
    "project_code = 'endtest'\n",
    "project_folder = 'test_easyquake'\n",
    "for single_date in daterange(start_date, end_date):\n",
    "    print(single_date.strftime(\"%Y-%m-%d\"))\n",
    "    dirname = single_date.strftime(\"%Y%m%d\")\n",
    "    # download_mseed(dirname=dirname, project_folder=project_folder, single_date=single_date, minlat=lat_a, maxlat=lat_b, minlon=lon_a, maxlon=lon_b)\n",
    "    detection_continuous(dirname=dirname, project_folder=project_folder, project_code=project_code, single_date=single_date, machine=True,local=True,machine_picker = 'EQTransformer')\n",
    "    input('It worked! Press any key')\n",
    "    association_continuous(dirname=dirname, project_folder=project_folder, project_code=project_code, maxdist=maxdist, maxkm=maxkm, single_date=single_date, local=True)\n",
    "\n",
    "        \n",
    "cat, dfs = combine_associated(project_folder=project_folder, project_code=project_code)\n",
    "cat = magnitude_quakeml(cat=cat, project_folder=project_folder,plot_event=True)\n",
    "cat.write('catalog_idaho.xml',format='QUAKEML')\n",
    "\n",
    "\n",
    "catdf = simple_cat_df(cat)\n",
    "plt.figure()\n",
    "plt.plot(catdf.index,catdf.magnitude,'.')\n",
    "    "
   ]
  },
  {
   "cell_type": "code",
   "execution_count": 70,
   "id": "bb020867",
   "metadata": {},
   "outputs": [
    {
     "name": "stdout",
     "output_type": "stream",
     "text": [
      "/Users/zoekrauss/anaconda3/envs/autolocate/lib/python3.6/site-packages/easyQuake/gpd_predict/gpd_predict.py\n",
      "/Users/zoekrauss/anaconda3/envs/autolocate/lib/python3.6/site-packages/easyQuake/gpd_predict/gpd_predict.py -V -P -I test_easyquake/20170803/dayfile.in -O test_easyquake/20170803/gpd_picks.out -F /Users/zoekrauss/anaconda3/envs/autolocate/lib/python3.6/site-packages/easyQuake/gpd_predict\n"
     ]
    }
   ],
   "source": [
    "from easyQuake.phasepapy import fbpicker\n",
    "import os\n",
    "\n",
    "dir1 = project_folder+'/'+dirname\n",
    "infile = dir1+'/dayfile.in'\n",
    "outfile = dir1+'/gpd_picks.out'\n",
    "pathgpd = '/'.join(str(fbpicker.__file__).split(\"/\")[:-2])+'/gpd_predict'\n",
    "print(pathgpd + '/gpd_predict.py')\n",
    "fullpath1 = pathgpd + '/gpd_predict.py'\n",
    "\n",
    "print(fullpath1+\" -V -P -I %s -O %s -F %s\" % (infile,outfile, pathgpd))"
   ]
  },
  {
   "cell_type": "code",
   "execution_count": null,
   "id": "edae94f0",
   "metadata": {},
   "outputs": [],
   "source": [
    "detection_continuous(dirname=dirname, project_folder=project_folder, project_code=project_code, single_date=single_date, machine=True,local=True)\n",
    "    association_continuous(dirname=dirname, project_folder=project_folder, project_code=project_code, maxdist=maxdist, maxkm=maxkm, single_date=single_date, local=True)\n",
    "\n",
    "cat, dfs = combine_associated(project_folder=project_folder, project_code=project_code)\n",
    "cat = magnitude_quakeml(cat=cat, project_folder=project_folder,plot_event=True)\n",
    "cat.write('catalog_idaho.xml',format='QUAKEML')\n",
    "\n",
    "\n",
    "catdf = simple_cat_df(cat)\n",
    "plt.figure()\n",
    "plt.plot(catdf.index,catdf.magnitude,'.')"
   ]
  }
 ],
 "metadata": {
  "kernelspec": {
   "display_name": "autolocate",
   "language": "python",
   "name": "autolocate"
  },
  "language_info": {
   "codemirror_mode": {
    "name": "ipython",
    "version": 3
   },
   "file_extension": ".py",
   "mimetype": "text/x-python",
   "name": "python",
   "nbconvert_exporter": "python",
   "pygments_lexer": "ipython3",
   "version": "3.6.3"
  }
 },
 "nbformat": 4,
 "nbformat_minor": 5
}
