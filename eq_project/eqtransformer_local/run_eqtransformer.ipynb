{
 "cells": [
  {
   "cell_type": "code",
   "execution_count": 3,
   "id": "5dc724f7",
   "metadata": {},
   "outputs": [
    {
     "name": "stdout",
     "output_type": "stream",
     "text": [
      "NV--ENEF\n",
      "NV--ENHR\n",
      "NV--ENWF\n",
      "NV--KEMF\n",
      "NV--KEMO\n",
      "NV--NCHR\n",
      "SY--ENEF\n",
      "SY--ENHR\n",
      "SY--ENWF\n",
      "SY--KEMF\n",
      "SY--KEMO\n",
      "SY--NCHR\n"
     ]
    }
   ],
   "source": [
    "from EQTransformer.utils.downloader import makeStationList\n",
    "\n",
    "makeStationList(json_path = '/Users/zoekrauss/ESS590F/krauss-repo/station_list.json',client_list=['IRIS'],min_lat =47.5 , max_lat = 48.5,min_lon=-129.4,max_lon=-128.8,start_time=\"2018-08-03 00:00:00.00\",end_time=\"2018-08-05 00:00:00.00\",channel_list=[\"HH[ZNE]\",\"EH[ZNE]\", \"HH[Z21]\",\"EH[Z21]\", \"CH[ZNE]\"])\n",
    "\n"
   ]
  },
  {
   "cell_type": "code",
   "execution_count": 11,
   "id": "44d69d39",
   "metadata": {
    "scrolled": true
   },
   "outputs": [
    {
     "name": "stderr",
     "output_type": "stream",
     "text": [
      "[2021-04-23 16:29:33,846] - obspy.clients.fdsn.mass_downloader - INFO: Initializing FDSN client(s) for IRIS.\n"
     ]
    },
    {
     "name": "stdout",
     "output_type": "stream",
     "text": [
      "####### There are 6 stations in the list. #######\n"
     ]
    },
    {
     "name": "stderr",
     "output_type": "stream",
     "text": [
      "[2021-04-23 16:29:34,149] - obspy.clients.fdsn.mass_downloader - INFO: Successfully initialized 1 client(s): IRIS.\n",
      "[2021-04-23 16:29:34,442] - obspy.clients.fdsn.mass_downloader - INFO: Total acquired or preexisting stations: 0\n",
      "[2021-04-23 16:29:34,449] - obspy.clients.fdsn.mass_downloader - INFO: Client 'IRIS' - Requesting reliable availability.\n",
      "[2021-04-23 16:29:34,573] - obspy.clients.fdsn.mass_downloader - INFO: Client 'IRIS' - No data available for request.\n"
     ]
    },
    {
     "name": "stdout",
     "output_type": "stream",
     "text": [
      "======= Working on ENEF station.\n"
     ]
    },
    {
     "name": "stderr",
     "output_type": "stream",
     "text": [
      "[2021-04-23 16:29:34,573] - obspy.clients.fdsn.mass_downloader - INFO: Client 'IRIS' - No data available.\n",
      "[2021-04-23 16:29:34,574] - obspy.clients.fdsn.mass_downloader - INFO: ============================== Final report\n",
      "[2021-04-23 16:29:34,601] - obspy.clients.fdsn.mass_downloader - INFO: 0 MiniSEED files [0.0 MB] already existed.\n",
      "[2021-04-23 16:29:34,606] - obspy.clients.fdsn.mass_downloader - INFO: 0 StationXML files [0.0 MB] already existed.\n",
      "[2021-04-23 16:29:34,606] - obspy.clients.fdsn.mass_downloader - INFO: Client 'IRIS' - Acquired 0 MiniSEED files [0.0 MB].\n",
      "[2021-04-23 16:29:34,607] - obspy.clients.fdsn.mass_downloader - INFO: Client 'IRIS' - Acquired 0 StationXML files [0.0 MB].\n",
      "[2021-04-23 16:29:34,607] - obspy.clients.fdsn.mass_downloader - INFO: Downloaded 0.0 MB in total.\n"
     ]
    },
    {
     "name": "stdout",
     "output_type": "stream",
     "text": [
      "** done with --> ENEF -- NV -- 2018-08-03\n"
     ]
    },
    {
     "name": "stderr",
     "output_type": "stream",
     "text": [
      "[2021-04-23 16:30:01,731] - obspy.clients.fdsn.mass_downloader - INFO: Total acquired or preexisting stations: 0\n",
      "[2021-04-23 16:30:01,742] - obspy.clients.fdsn.mass_downloader - INFO: Client 'IRIS' - Requesting reliable availability.\n",
      "[2021-04-23 16:30:01,862] - obspy.clients.fdsn.mass_downloader - INFO: Client 'IRIS' - No data available for request.\n",
      "[2021-04-23 16:30:01,863] - obspy.clients.fdsn.mass_downloader - INFO: Client 'IRIS' - No data available.\n",
      "[2021-04-23 16:30:01,864] - obspy.clients.fdsn.mass_downloader - INFO: ============================== Final report\n",
      "[2021-04-23 16:30:01,864] - obspy.clients.fdsn.mass_downloader - INFO: 0 MiniSEED files [0.0 MB] already existed.\n",
      "[2021-04-23 16:30:01,866] - obspy.clients.fdsn.mass_downloader - INFO: 0 StationXML files [0.0 MB] already existed.\n",
      "[2021-04-23 16:30:01,868] - obspy.clients.fdsn.mass_downloader - INFO: Client 'IRIS' - Acquired 0 MiniSEED files [0.0 MB].\n",
      "[2021-04-23 16:30:01,869] - obspy.clients.fdsn.mass_downloader - INFO: Client 'IRIS' - Acquired 0 StationXML files [0.0 MB].\n",
      "[2021-04-23 16:30:01,869] - obspy.clients.fdsn.mass_downloader - INFO: Downloaded 0.0 MB in total.\n"
     ]
    },
    {
     "name": "stdout",
     "output_type": "stream",
     "text": [
      "** done with --> ENEF -- NV -- 2018-08-04\n"
     ]
    },
    {
     "name": "stderr",
     "output_type": "stream",
     "text": [
      "[2021-04-23 16:30:26,871] - obspy.clients.fdsn.mass_downloader - INFO: Total acquired or preexisting stations: 0\n",
      "[2021-04-23 16:30:26,874] - obspy.clients.fdsn.mass_downloader - INFO: Client 'IRIS' - Requesting reliable availability.\n"
     ]
    },
    {
     "name": "stdout",
     "output_type": "stream",
     "text": [
      "======= Working on ENHR station.\n"
     ]
    },
    {
     "name": "stderr",
     "output_type": "stream",
     "text": [
      "[2021-04-23 16:30:27,470] - obspy.clients.fdsn.mass_downloader - INFO: Client 'IRIS' - Successfully requested availability (0.60 seconds)\n",
      "[2021-04-23 16:30:27,494] - obspy.clients.fdsn.mass_downloader - INFO: Client 'IRIS' - Found 1 stations (2 channels).\n",
      "[2021-04-23 16:30:27,578] - obspy.clients.fdsn.mass_downloader - INFO: Client 'IRIS' - Will attempt to download data from 1 stations.\n",
      "[2021-04-23 16:30:27,610] - obspy.clients.fdsn.mass_downloader - INFO: Client 'IRIS' - Status for 2 time intervals/channels before downloading: NEEDS_DOWNLOADING\n",
      "[2021-04-23 16:30:36,661] - obspy.clients.fdsn.mass_downloader - INFO: Client 'IRIS' - Successfully downloaded 1 channels (of 1)\n",
      "[2021-04-23 16:30:37,691] - obspy.clients.fdsn.mass_downloader - INFO: Client 'IRIS' - Successfully downloaded 1 channels (of 1)\n",
      "[2021-04-23 16:30:37,692] - obspy.clients.fdsn.mass_downloader - INFO: Client 'IRIS' - Launching basic QC checks...\n",
      "[2021-04-23 16:30:38,854] - obspy.clients.fdsn.mass_downloader - INFO: Client 'IRIS' - Downloaded 39.0 MB [3964.71 KB/sec] of data, 0.0 MB of which were discarded afterwards.\n",
      "[2021-04-23 16:30:38,855] - obspy.clients.fdsn.mass_downloader - INFO: Client 'IRIS' - Status for 2 time intervals/channels after downloading: DOWNLOADED\n",
      "[2021-04-23 16:30:38,890] - obspy.clients.fdsn.mass_downloader - INFO: Client 'IRIS' - Successfully downloaded 'downloads_mseedsxml/ENHR/NV.ENHR.xml'.\n",
      "[2021-04-23 16:30:39,036] - obspy.clients.fdsn.mass_downloader - INFO: Client 'IRIS' - Downloaded 1 station files [0.1 MB] in 0.0 seconds [2137.29 KB/sec].\n",
      "[2021-04-23 16:30:39,038] - obspy.clients.fdsn.mass_downloader - INFO: ============================== Final report\n",
      "[2021-04-23 16:30:39,041] - obspy.clients.fdsn.mass_downloader - INFO: 0 MiniSEED files [0.0 MB] already existed.\n",
      "[2021-04-23 16:30:39,041] - obspy.clients.fdsn.mass_downloader - INFO: 0 StationXML files [0.0 MB] already existed.\n",
      "[2021-04-23 16:30:39,042] - obspy.clients.fdsn.mass_downloader - INFO: Client 'IRIS' - Acquired 2 MiniSEED files [39.0 MB].\n",
      "[2021-04-23 16:30:39,043] - obspy.clients.fdsn.mass_downloader - INFO: Client 'IRIS' - Acquired 1 StationXML files [0.1 MB].\n",
      "[2021-04-23 16:30:39,043] - obspy.clients.fdsn.mass_downloader - INFO: Downloaded 39.1 MB in total.\n"
     ]
    },
    {
     "name": "stdout",
     "output_type": "stream",
     "text": [
      "** done with --> ENHR -- NV -- 2018-08-03\n"
     ]
    },
    {
     "name": "stderr",
     "output_type": "stream",
     "text": [
      "[2021-04-23 16:31:05,048] - obspy.clients.fdsn.mass_downloader - INFO: Total acquired or preexisting stations: 0\n",
      "[2021-04-23 16:31:05,049] - obspy.clients.fdsn.mass_downloader - INFO: Client 'IRIS' - Requesting reliable availability.\n",
      "[2021-04-23 16:31:05,152] - obspy.clients.fdsn.mass_downloader - INFO: Client 'IRIS' - Successfully requested availability (0.10 seconds)\n",
      "[2021-04-23 16:31:05,154] - obspy.clients.fdsn.mass_downloader - INFO: Client 'IRIS' - Found 1 stations (2 channels).\n",
      "[2021-04-23 16:31:05,154] - obspy.clients.fdsn.mass_downloader - INFO: Client 'IRIS' - Will attempt to download data from 1 stations.\n",
      "[2021-04-23 16:31:05,155] - obspy.clients.fdsn.mass_downloader - INFO: Client 'IRIS' - Status for 2 time intervals/channels before downloading: NEEDS_DOWNLOADING\n",
      "[2021-04-23 16:31:09,746] - obspy.clients.fdsn.mass_downloader - INFO: Client 'IRIS' - Successfully downloaded 1 channels (of 1)\n",
      "[2021-04-23 16:31:10,110] - obspy.clients.fdsn.mass_downloader - INFO: Client 'IRIS' - Successfully downloaded 1 channels (of 1)\n",
      "[2021-04-23 16:31:10,111] - obspy.clients.fdsn.mass_downloader - INFO: Client 'IRIS' - Launching basic QC checks...\n",
      "[2021-04-23 16:31:10,133] - obspy.clients.fdsn.mass_downloader - INFO: Client 'IRIS' - Downloaded 37.3 MB [7717.72 KB/sec] of data, 0.0 MB of which were discarded afterwards.\n",
      "[2021-04-23 16:31:10,134] - obspy.clients.fdsn.mass_downloader - INFO: Client 'IRIS' - Status for 2 time intervals/channels after downloading: DOWNLOADED\n",
      "[2021-04-23 16:31:10,136] - obspy.clients.fdsn.mass_downloader - INFO: Client 'IRIS' - No station information to download.\n",
      "[2021-04-23 16:31:10,137] - obspy.clients.fdsn.mass_downloader - INFO: ============================== Final report\n",
      "[2021-04-23 16:31:10,137] - obspy.clients.fdsn.mass_downloader - INFO: 0 MiniSEED files [0.0 MB] already existed.\n",
      "[2021-04-23 16:31:10,138] - obspy.clients.fdsn.mass_downloader - INFO: 1 StationXML files [0.1 MB] already existed.\n",
      "[2021-04-23 16:31:10,139] - obspy.clients.fdsn.mass_downloader - INFO: Client 'IRIS' - Acquired 2 MiniSEED files [37.3 MB].\n",
      "[2021-04-23 16:31:10,139] - obspy.clients.fdsn.mass_downloader - INFO: Client 'IRIS' - Acquired 0 StationXML files [0.0 MB].\n",
      "[2021-04-23 16:31:10,140] - obspy.clients.fdsn.mass_downloader - INFO: Downloaded 37.3 MB in total.\n"
     ]
    },
    {
     "name": "stdout",
     "output_type": "stream",
     "text": [
      "** done with --> ENHR -- NV -- 2018-08-04\n"
     ]
    },
    {
     "name": "stderr",
     "output_type": "stream",
     "text": [
      "[2021-04-23 16:31:39,141] - obspy.clients.fdsn.mass_downloader - INFO: Total acquired or preexisting stations: 0\n",
      "[2021-04-23 16:31:39,142] - obspy.clients.fdsn.mass_downloader - INFO: Client 'IRIS' - Requesting reliable availability.\n",
      "[2021-04-23 16:31:39,204] - obspy.clients.fdsn.mass_downloader - INFO: Client 'IRIS' - Successfully requested availability (0.06 seconds)\n",
      "[2021-04-23 16:31:39,206] - obspy.clients.fdsn.mass_downloader - INFO: Client 'IRIS' - Found 1 stations (3 channels).\n",
      "[2021-04-23 16:31:39,207] - obspy.clients.fdsn.mass_downloader - INFO: Client 'IRIS' - Will attempt to download data from 1 stations.\n",
      "[2021-04-23 16:31:39,208] - obspy.clients.fdsn.mass_downloader - INFO: Client 'IRIS' - Status for 3 time intervals/channels before downloading: NEEDS_DOWNLOADING\n"
     ]
    },
    {
     "name": "stdout",
     "output_type": "stream",
     "text": [
      "======= Working on ENWF station.\n"
     ]
    },
    {
     "name": "stderr",
     "output_type": "stream",
     "text": [
      "[2021-04-23 16:31:58,161] - obspy.clients.fdsn.mass_downloader - INFO: Client 'IRIS' - Successfully downloaded 1 channels (of 1)\n",
      "[2021-04-23 16:31:58,539] - obspy.clients.fdsn.mass_downloader - INFO: Client 'IRIS' - Successfully downloaded 1 channels (of 1)\n",
      "[2021-04-23 16:31:58,745] - obspy.clients.fdsn.mass_downloader - INFO: Client 'IRIS' - Successfully downloaded 1 channels (of 1)\n",
      "[2021-04-23 16:31:58,746] - obspy.clients.fdsn.mass_downloader - INFO: Client 'IRIS' - Launching basic QC checks...\n",
      "[2021-04-23 16:31:58,904] - obspy.clients.fdsn.mass_downloader - INFO: Client 'IRIS' - Downloaded 53.1 MB [2785.28 KB/sec] of data, 0.0 MB of which were discarded afterwards.\n",
      "[2021-04-23 16:31:58,905] - obspy.clients.fdsn.mass_downloader - INFO: Client 'IRIS' - Status for 3 time intervals/channels after downloading: DOWNLOADED\n",
      "[2021-04-23 16:31:59,062] - obspy.clients.fdsn.mass_downloader - INFO: Client 'IRIS' - Successfully downloaded 'downloads_mseedsxml/ENWF/NV.ENWF.xml'.\n",
      "[2021-04-23 16:31:59,070] - obspy.clients.fdsn.mass_downloader - INFO: Client 'IRIS' - Downloaded 1 station files [0.3 MB] in 0.2 seconds [1887.55 KB/sec].\n",
      "[2021-04-23 16:31:59,070] - obspy.clients.fdsn.mass_downloader - INFO: ============================== Final report\n",
      "[2021-04-23 16:31:59,071] - obspy.clients.fdsn.mass_downloader - INFO: 0 MiniSEED files [0.0 MB] already existed.\n",
      "[2021-04-23 16:31:59,071] - obspy.clients.fdsn.mass_downloader - INFO: 0 StationXML files [0.0 MB] already existed.\n",
      "[2021-04-23 16:31:59,072] - obspy.clients.fdsn.mass_downloader - INFO: Client 'IRIS' - Acquired 3 MiniSEED files [53.1 MB].\n",
      "[2021-04-23 16:31:59,072] - obspy.clients.fdsn.mass_downloader - INFO: Client 'IRIS' - Acquired 1 StationXML files [0.3 MB].\n",
      "[2021-04-23 16:31:59,073] - obspy.clients.fdsn.mass_downloader - INFO: Downloaded 53.4 MB in total.\n"
     ]
    },
    {
     "name": "stdout",
     "output_type": "stream",
     "text": [
      "** done with --> ENWF -- NV -- 2018-08-03\n"
     ]
    },
    {
     "name": "stderr",
     "output_type": "stream",
     "text": [
      "[2021-04-23 16:32:24,077] - obspy.clients.fdsn.mass_downloader - INFO: Total acquired or preexisting stations: 0\n",
      "[2021-04-23 16:32:24,078] - obspy.clients.fdsn.mass_downloader - INFO: Client 'IRIS' - Requesting reliable availability.\n",
      "[2021-04-23 16:32:24,206] - obspy.clients.fdsn.mass_downloader - INFO: Client 'IRIS' - Successfully requested availability (0.13 seconds)\n",
      "[2021-04-23 16:32:24,208] - obspy.clients.fdsn.mass_downloader - INFO: Client 'IRIS' - Found 1 stations (3 channels).\n",
      "[2021-04-23 16:32:24,209] - obspy.clients.fdsn.mass_downloader - INFO: Client 'IRIS' - Will attempt to download data from 1 stations.\n",
      "[2021-04-23 16:32:24,210] - obspy.clients.fdsn.mass_downloader - INFO: Client 'IRIS' - Status for 3 time intervals/channels before downloading: NEEDS_DOWNLOADING\n",
      "[2021-04-23 16:32:36,510] - obspy.clients.fdsn.mass_downloader - INFO: Client 'IRIS' - Successfully downloaded 1 channels (of 1)\n",
      "[2021-04-23 16:32:38,598] - obspy.clients.fdsn.mass_downloader - INFO: Client 'IRIS' - Successfully downloaded 1 channels (of 1)\n",
      "[2021-04-23 16:32:38,626] - obspy.clients.fdsn.mass_downloader - INFO: Client 'IRIS' - Successfully downloaded 1 channels (of 1)\n",
      "[2021-04-23 16:32:38,627] - obspy.clients.fdsn.mass_downloader - INFO: Client 'IRIS' - Launching basic QC checks...\n",
      "[2021-04-23 16:32:38,796] - obspy.clients.fdsn.mass_downloader - INFO: Client 'IRIS' - Downloaded 49.6 MB [3524.60 KB/sec] of data, 0.0 MB of which were discarded afterwards.\n",
      "[2021-04-23 16:32:38,797] - obspy.clients.fdsn.mass_downloader - INFO: Client 'IRIS' - Status for 3 time intervals/channels after downloading: DOWNLOADED\n",
      "[2021-04-23 16:32:38,805] - obspy.clients.fdsn.mass_downloader - INFO: Client 'IRIS' - No station information to download.\n",
      "[2021-04-23 16:32:38,806] - obspy.clients.fdsn.mass_downloader - INFO: ============================== Final report\n",
      "[2021-04-23 16:32:38,806] - obspy.clients.fdsn.mass_downloader - INFO: 0 MiniSEED files [0.0 MB] already existed.\n",
      "[2021-04-23 16:32:38,807] - obspy.clients.fdsn.mass_downloader - INFO: 1 StationXML files [0.3 MB] already existed.\n",
      "[2021-04-23 16:32:38,807] - obspy.clients.fdsn.mass_downloader - INFO: Client 'IRIS' - Acquired 3 MiniSEED files [49.6 MB].\n",
      "[2021-04-23 16:32:38,807] - obspy.clients.fdsn.mass_downloader - INFO: Client 'IRIS' - Acquired 0 StationXML files [0.0 MB].\n",
      "[2021-04-23 16:32:38,808] - obspy.clients.fdsn.mass_downloader - INFO: Downloaded 49.6 MB in total.\n"
     ]
    },
    {
     "name": "stdout",
     "output_type": "stream",
     "text": [
      "** done with --> ENWF -- NV -- 2018-08-04\n"
     ]
    },
    {
     "name": "stderr",
     "output_type": "stream",
     "text": [
      "[2021-04-23 16:33:03,810] - obspy.clients.fdsn.mass_downloader - INFO: Total acquired or preexisting stations: 0\n",
      "[2021-04-23 16:33:03,811] - obspy.clients.fdsn.mass_downloader - INFO: Client 'IRIS' - Requesting reliable availability.\n",
      "[2021-04-23 16:33:03,905] - obspy.clients.fdsn.mass_downloader - INFO: Client 'IRIS' - Successfully requested availability (0.09 seconds)\n",
      "[2021-04-23 16:33:03,906] - obspy.clients.fdsn.mass_downloader - INFO: Client 'IRIS' - Found 1 stations (3 channels).\n",
      "[2021-04-23 16:33:03,907] - obspy.clients.fdsn.mass_downloader - INFO: Client 'IRIS' - Will attempt to download data from 1 stations.\n",
      "[2021-04-23 16:33:03,908] - obspy.clients.fdsn.mass_downloader - INFO: Client 'IRIS' - Status for 3 time intervals/channels before downloading: NEEDS_DOWNLOADING\n"
     ]
    },
    {
     "name": "stdout",
     "output_type": "stream",
     "text": [
      "======= Working on KEMF station.\n"
     ]
    },
    {
     "name": "stderr",
     "output_type": "stream",
     "text": [
      "[2021-04-23 16:33:21,786] - obspy.clients.fdsn.mass_downloader - INFO: Client 'IRIS' - Successfully downloaded 1 channels (of 1)\n",
      "[2021-04-23 16:33:22,648] - obspy.clients.fdsn.mass_downloader - INFO: Client 'IRIS' - Successfully downloaded 1 channels (of 1)\n",
      "[2021-04-23 16:33:22,737] - obspy.clients.fdsn.mass_downloader - INFO: Client 'IRIS' - Successfully downloaded 1 channels (of 1)\n",
      "[2021-04-23 16:33:22,738] - obspy.clients.fdsn.mass_downloader - INFO: Client 'IRIS' - Launching basic QC checks...\n",
      "[2021-04-23 16:33:22,927] - obspy.clients.fdsn.mass_downloader - INFO: Client 'IRIS' - Downloaded 66.4 MB [3613.66 KB/sec] of data, 0.0 MB of which were discarded afterwards.\n",
      "[2021-04-23 16:33:22,927] - obspy.clients.fdsn.mass_downloader - INFO: Client 'IRIS' - Status for 3 time intervals/channels after downloading: DOWNLOADED\n",
      "[2021-04-23 16:33:23,098] - obspy.clients.fdsn.mass_downloader - INFO: Client 'IRIS' - Successfully downloaded 'downloads_mseedsxml/KEMF/NV.KEMF.xml'.\n",
      "[2021-04-23 16:33:23,103] - obspy.clients.fdsn.mass_downloader - INFO: Client 'IRIS' - Downloaded 1 station files [0.2 MB] in 0.2 seconds [1039.95 KB/sec].\n",
      "[2021-04-23 16:33:23,104] - obspy.clients.fdsn.mass_downloader - INFO: ============================== Final report\n",
      "[2021-04-23 16:33:23,104] - obspy.clients.fdsn.mass_downloader - INFO: 0 MiniSEED files [0.0 MB] already existed.\n",
      "[2021-04-23 16:33:23,104] - obspy.clients.fdsn.mass_downloader - INFO: 0 StationXML files [0.0 MB] already existed.\n",
      "[2021-04-23 16:33:23,105] - obspy.clients.fdsn.mass_downloader - INFO: Client 'IRIS' - Acquired 3 MiniSEED files [66.4 MB].\n",
      "[2021-04-23 16:33:23,106] - obspy.clients.fdsn.mass_downloader - INFO: Client 'IRIS' - Acquired 1 StationXML files [0.2 MB].\n",
      "[2021-04-23 16:33:23,106] - obspy.clients.fdsn.mass_downloader - INFO: Downloaded 66.6 MB in total.\n"
     ]
    },
    {
     "name": "stdout",
     "output_type": "stream",
     "text": [
      "** done with --> KEMF -- NV -- 2018-08-03\n"
     ]
    },
    {
     "name": "stderr",
     "output_type": "stream",
     "text": [
      "[2021-04-23 16:33:50,109] - obspy.clients.fdsn.mass_downloader - INFO: Total acquired or preexisting stations: 0\n",
      "[2021-04-23 16:33:50,110] - obspy.clients.fdsn.mass_downloader - INFO: Client 'IRIS' - Requesting reliable availability.\n",
      "[2021-04-23 16:33:50,204] - obspy.clients.fdsn.mass_downloader - INFO: Client 'IRIS' - Successfully requested availability (0.09 seconds)\n",
      "[2021-04-23 16:33:50,206] - obspy.clients.fdsn.mass_downloader - INFO: Client 'IRIS' - Found 1 stations (3 channels).\n",
      "[2021-04-23 16:33:50,207] - obspy.clients.fdsn.mass_downloader - INFO: Client 'IRIS' - Will attempt to download data from 1 stations.\n",
      "[2021-04-23 16:33:50,207] - obspy.clients.fdsn.mass_downloader - INFO: Client 'IRIS' - Status for 3 time intervals/channels before downloading: NEEDS_DOWNLOADING\n",
      "[2021-04-23 16:34:06,132] - obspy.clients.fdsn.mass_downloader - INFO: Client 'IRIS' - Successfully downloaded 1 channels (of 1)\n",
      "[2021-04-23 16:34:07,284] - obspy.clients.fdsn.mass_downloader - INFO: Client 'IRIS' - Successfully downloaded 1 channels (of 1)\n",
      "[2021-04-23 16:34:07,536] - obspy.clients.fdsn.mass_downloader - INFO: Client 'IRIS' - Successfully downloaded 1 channels (of 1)\n",
      "[2021-04-23 16:34:07,537] - obspy.clients.fdsn.mass_downloader - INFO: Client 'IRIS' - Launching basic QC checks...\n",
      "[2021-04-23 16:34:07,708] - obspy.clients.fdsn.mass_downloader - INFO: Client 'IRIS' - Downloaded 62.4 MB [3688.09 KB/sec] of data, 0.0 MB of which were discarded afterwards.\n",
      "[2021-04-23 16:34:07,708] - obspy.clients.fdsn.mass_downloader - INFO: Client 'IRIS' - Status for 3 time intervals/channels after downloading: DOWNLOADED\n",
      "[2021-04-23 16:34:07,713] - obspy.clients.fdsn.mass_downloader - INFO: Client 'IRIS' - No station information to download.\n",
      "[2021-04-23 16:34:07,713] - obspy.clients.fdsn.mass_downloader - INFO: ============================== Final report\n",
      "[2021-04-23 16:34:07,714] - obspy.clients.fdsn.mass_downloader - INFO: 0 MiniSEED files [0.0 MB] already existed.\n",
      "[2021-04-23 16:34:07,714] - obspy.clients.fdsn.mass_downloader - INFO: 1 StationXML files [0.2 MB] already existed.\n",
      "[2021-04-23 16:34:07,715] - obspy.clients.fdsn.mass_downloader - INFO: Client 'IRIS' - Acquired 3 MiniSEED files [62.4 MB].\n",
      "[2021-04-23 16:34:07,715] - obspy.clients.fdsn.mass_downloader - INFO: Client 'IRIS' - Acquired 0 StationXML files [0.0 MB].\n",
      "[2021-04-23 16:34:07,716] - obspy.clients.fdsn.mass_downloader - INFO: Downloaded 62.4 MB in total.\n"
     ]
    },
    {
     "name": "stdout",
     "output_type": "stream",
     "text": [
      "** done with --> KEMF -- NV -- 2018-08-04\n"
     ]
    },
    {
     "name": "stderr",
     "output_type": "stream",
     "text": [
      "[2021-04-23 16:34:34,720] - obspy.clients.fdsn.mass_downloader - INFO: Total acquired or preexisting stations: 0\n",
      "[2021-04-23 16:34:34,721] - obspy.clients.fdsn.mass_downloader - INFO: Client 'IRIS' - Requesting reliable availability.\n",
      "[2021-04-23 16:34:34,817] - obspy.clients.fdsn.mass_downloader - INFO: Client 'IRIS' - Successfully requested availability (0.10 seconds)\n",
      "[2021-04-23 16:34:34,818] - obspy.clients.fdsn.mass_downloader - INFO: Client 'IRIS' - Found 1 stations (3 channels).\n",
      "[2021-04-23 16:34:34,819] - obspy.clients.fdsn.mass_downloader - INFO: Client 'IRIS' - Will attempt to download data from 1 stations.\n",
      "[2021-04-23 16:34:34,820] - obspy.clients.fdsn.mass_downloader - INFO: Client 'IRIS' - Status for 3 time intervals/channels before downloading: NEEDS_DOWNLOADING\n"
     ]
    },
    {
     "name": "stdout",
     "output_type": "stream",
     "text": [
      "======= Working on KEMO station.\n"
     ]
    },
    {
     "name": "stderr",
     "output_type": "stream",
     "text": [
      "[2021-04-23 16:34:51,717] - obspy.clients.fdsn.mass_downloader - INFO: Client 'IRIS' - Successfully downloaded 1 channels (of 1)\n",
      "[2021-04-23 16:34:54,417] - obspy.clients.fdsn.mass_downloader - INFO: Client 'IRIS' - Successfully downloaded 1 channels (of 1)\n",
      "[2021-04-23 16:34:54,436] - obspy.clients.fdsn.mass_downloader - INFO: Client 'IRIS' - Successfully downloaded 1 channels (of 1)\n",
      "[2021-04-23 16:34:54,437] - obspy.clients.fdsn.mass_downloader - INFO: Client 'IRIS' - Launching basic QC checks...\n",
      "[2021-04-23 16:34:54,632] - obspy.clients.fdsn.mass_downloader - INFO: Client 'IRIS' - Downloaded 68.4 MB [3571.05 KB/sec] of data, 0.0 MB of which were discarded afterwards.\n",
      "[2021-04-23 16:34:54,633] - obspy.clients.fdsn.mass_downloader - INFO: Client 'IRIS' - Status for 3 time intervals/channels after downloading: DOWNLOADED\n",
      "[2021-04-23 16:34:54,768] - obspy.clients.fdsn.mass_downloader - INFO: Client 'IRIS' - Successfully downloaded 'downloads_mseedsxml/KEMO/NV.KEMO.xml'.\n",
      "[2021-04-23 16:34:54,773] - obspy.clients.fdsn.mass_downloader - INFO: Client 'IRIS' - Downloaded 1 station files [0.2 MB] in 0.1 seconds [1308.76 KB/sec].\n",
      "[2021-04-23 16:34:54,774] - obspy.clients.fdsn.mass_downloader - INFO: ============================== Final report\n",
      "[2021-04-23 16:34:54,775] - obspy.clients.fdsn.mass_downloader - INFO: 0 MiniSEED files [0.0 MB] already existed.\n",
      "[2021-04-23 16:34:54,775] - obspy.clients.fdsn.mass_downloader - INFO: 0 StationXML files [0.0 MB] already existed.\n",
      "[2021-04-23 16:34:54,775] - obspy.clients.fdsn.mass_downloader - INFO: Client 'IRIS' - Acquired 3 MiniSEED files [68.4 MB].\n",
      "[2021-04-23 16:34:54,776] - obspy.clients.fdsn.mass_downloader - INFO: Client 'IRIS' - Acquired 1 StationXML files [0.2 MB].\n",
      "[2021-04-23 16:34:54,776] - obspy.clients.fdsn.mass_downloader - INFO: Downloaded 68.6 MB in total.\n"
     ]
    },
    {
     "name": "stdout",
     "output_type": "stream",
     "text": [
      "** done with --> KEMO -- NV -- 2018-08-03\n"
     ]
    },
    {
     "name": "stderr",
     "output_type": "stream",
     "text": [
      "[2021-04-23 16:35:22,777] - obspy.clients.fdsn.mass_downloader - INFO: Total acquired or preexisting stations: 0\n",
      "[2021-04-23 16:35:22,778] - obspy.clients.fdsn.mass_downloader - INFO: Client 'IRIS' - Requesting reliable availability.\n",
      "[2021-04-23 16:35:22,879] - obspy.clients.fdsn.mass_downloader - INFO: Client 'IRIS' - Successfully requested availability (0.10 seconds)\n",
      "[2021-04-23 16:35:22,881] - obspy.clients.fdsn.mass_downloader - INFO: Client 'IRIS' - Found 1 stations (3 channels).\n",
      "[2021-04-23 16:35:22,882] - obspy.clients.fdsn.mass_downloader - INFO: Client 'IRIS' - Will attempt to download data from 1 stations.\n",
      "[2021-04-23 16:35:22,883] - obspy.clients.fdsn.mass_downloader - INFO: Client 'IRIS' - Status for 3 time intervals/channels before downloading: NEEDS_DOWNLOADING\n",
      "[2021-04-23 16:35:41,299] - obspy.clients.fdsn.mass_downloader - INFO: Client 'IRIS' - Successfully downloaded 1 channels (of 1)\n",
      "[2021-04-23 16:35:41,581] - obspy.clients.fdsn.mass_downloader - INFO: Client 'IRIS' - Successfully downloaded 1 channels (of 1)\n",
      "[2021-04-23 16:35:41,647] - obspy.clients.fdsn.mass_downloader - INFO: Client 'IRIS' - Successfully downloaded 1 channels (of 1)\n",
      "[2021-04-23 16:35:41,648] - obspy.clients.fdsn.mass_downloader - INFO: Client 'IRIS' - Launching basic QC checks...\n",
      "[2021-04-23 16:35:41,825] - obspy.clients.fdsn.mass_downloader - INFO: Client 'IRIS' - Downloaded 66.6 MB [3636.02 KB/sec] of data, 0.0 MB of which were discarded afterwards.\n",
      "[2021-04-23 16:35:41,825] - obspy.clients.fdsn.mass_downloader - INFO: Client 'IRIS' - Status for 3 time intervals/channels after downloading: DOWNLOADED\n",
      "[2021-04-23 16:35:41,830] - obspy.clients.fdsn.mass_downloader - INFO: Client 'IRIS' - No station information to download.\n",
      "[2021-04-23 16:35:41,830] - obspy.clients.fdsn.mass_downloader - INFO: ============================== Final report\n",
      "[2021-04-23 16:35:41,831] - obspy.clients.fdsn.mass_downloader - INFO: 0 MiniSEED files [0.0 MB] already existed.\n",
      "[2021-04-23 16:35:41,831] - obspy.clients.fdsn.mass_downloader - INFO: 1 StationXML files [0.2 MB] already existed.\n",
      "[2021-04-23 16:35:41,832] - obspy.clients.fdsn.mass_downloader - INFO: Client 'IRIS' - Acquired 3 MiniSEED files [66.6 MB].\n",
      "[2021-04-23 16:35:41,832] - obspy.clients.fdsn.mass_downloader - INFO: Client 'IRIS' - Acquired 0 StationXML files [0.0 MB].\n",
      "[2021-04-23 16:35:41,833] - obspy.clients.fdsn.mass_downloader - INFO: Downloaded 66.6 MB in total.\n"
     ]
    },
    {
     "name": "stdout",
     "output_type": "stream",
     "text": [
      "** done with --> KEMO -- NV -- 2018-08-04\n"
     ]
    },
    {
     "name": "stderr",
     "output_type": "stream",
     "text": [
      "[2021-04-23 16:36:09,837] - obspy.clients.fdsn.mass_downloader - INFO: Total acquired or preexisting stations: 0\n",
      "[2021-04-23 16:36:09,838] - obspy.clients.fdsn.mass_downloader - INFO: Client 'IRIS' - Requesting reliable availability.\n",
      "[2021-04-23 16:36:09,932] - obspy.clients.fdsn.mass_downloader - INFO: Client 'IRIS' - Successfully requested availability (0.09 seconds)\n",
      "[2021-04-23 16:36:09,933] - obspy.clients.fdsn.mass_downloader - INFO: Client 'IRIS' - Found 1 stations (3 channels).\n",
      "[2021-04-23 16:36:09,934] - obspy.clients.fdsn.mass_downloader - INFO: Client 'IRIS' - Will attempt to download data from 1 stations.\n",
      "[2021-04-23 16:36:09,935] - obspy.clients.fdsn.mass_downloader - INFO: Client 'IRIS' - Status for 3 time intervals/channels before downloading: NEEDS_DOWNLOADING\n"
     ]
    },
    {
     "name": "stdout",
     "output_type": "stream",
     "text": [
      "======= Working on NCHR station.\n"
     ]
    },
    {
     "name": "stderr",
     "output_type": "stream",
     "text": [
      "[2021-04-23 16:36:29,795] - obspy.clients.fdsn.mass_downloader - INFO: Client 'IRIS' - Successfully downloaded 1 channels (of 1)\n",
      "[2021-04-23 16:36:29,837] - obspy.clients.fdsn.mass_downloader - INFO: Client 'IRIS' - Successfully downloaded 1 channels (of 1)\n",
      "[2021-04-23 16:36:30,561] - obspy.clients.fdsn.mass_downloader - INFO: Client 'IRIS' - Successfully downloaded 1 channels (of 1)\n",
      "[2021-04-23 16:36:30,562] - obspy.clients.fdsn.mass_downloader - INFO: Client 'IRIS' - Launching basic QC checks...\n",
      "[2021-04-23 16:36:30,833] - obspy.clients.fdsn.mass_downloader - INFO: Client 'IRIS' - Downloaded 74.7 MB [3708.58 KB/sec] of data, 0.0 MB of which were discarded afterwards.\n",
      "[2021-04-23 16:36:30,834] - obspy.clients.fdsn.mass_downloader - INFO: Client 'IRIS' - Status for 3 time intervals/channels after downloading: DOWNLOADED\n",
      "[2021-04-23 16:36:31,091] - obspy.clients.fdsn.mass_downloader - INFO: Client 'IRIS' - Successfully downloaded 'downloads_mseedsxml/NCHR/NV.NCHR.xml'.\n",
      "[2021-04-23 16:36:31,102] - obspy.clients.fdsn.mass_downloader - INFO: Client 'IRIS' - Downloaded 1 station files [0.3 MB] in 0.2 seconds [1583.20 KB/sec].\n",
      "[2021-04-23 16:36:31,102] - obspy.clients.fdsn.mass_downloader - INFO: ============================== Final report\n",
      "[2021-04-23 16:36:31,103] - obspy.clients.fdsn.mass_downloader - INFO: 0 MiniSEED files [0.0 MB] already existed.\n",
      "[2021-04-23 16:36:31,103] - obspy.clients.fdsn.mass_downloader - INFO: 0 StationXML files [0.0 MB] already existed.\n",
      "[2021-04-23 16:36:31,104] - obspy.clients.fdsn.mass_downloader - INFO: Client 'IRIS' - Acquired 3 MiniSEED files [74.7 MB].\n",
      "[2021-04-23 16:36:31,105] - obspy.clients.fdsn.mass_downloader - INFO: Client 'IRIS' - Acquired 1 StationXML files [0.3 MB].\n",
      "[2021-04-23 16:36:31,106] - obspy.clients.fdsn.mass_downloader - INFO: Downloaded 75.0 MB in total.\n"
     ]
    },
    {
     "name": "stdout",
     "output_type": "stream",
     "text": [
      "** done with --> NCHR -- NV -- 2018-08-03\n"
     ]
    },
    {
     "name": "stderr",
     "output_type": "stream",
     "text": [
      "[2021-04-23 16:36:58,109] - obspy.clients.fdsn.mass_downloader - INFO: Total acquired or preexisting stations: 0\n",
      "[2021-04-23 16:36:58,110] - obspy.clients.fdsn.mass_downloader - INFO: Client 'IRIS' - Requesting reliable availability.\n",
      "[2021-04-23 16:36:58,452] - obspy.clients.fdsn.mass_downloader - INFO: Client 'IRIS' - Successfully requested availability (0.34 seconds)\n",
      "[2021-04-23 16:36:58,453] - obspy.clients.fdsn.mass_downloader - INFO: Client 'IRIS' - Found 1 stations (3 channels).\n",
      "[2021-04-23 16:36:58,454] - obspy.clients.fdsn.mass_downloader - INFO: Client 'IRIS' - Will attempt to download data from 1 stations.\n",
      "[2021-04-23 16:36:58,455] - obspy.clients.fdsn.mass_downloader - INFO: Client 'IRIS' - Status for 3 time intervals/channels before downloading: NEEDS_DOWNLOADING\n",
      "[2021-04-23 16:37:16,981] - obspy.clients.fdsn.mass_downloader - INFO: Client 'IRIS' - Successfully downloaded 1 channels (of 1)\n",
      "[2021-04-23 16:37:17,871] - obspy.clients.fdsn.mass_downloader - INFO: Client 'IRIS' - Successfully downloaded 1 channels (of 1)\n",
      "[2021-04-23 16:37:18,404] - obspy.clients.fdsn.mass_downloader - INFO: Client 'IRIS' - Successfully downloaded 1 channels (of 1)\n",
      "[2021-04-23 16:37:18,405] - obspy.clients.fdsn.mass_downloader - INFO: Client 'IRIS' - Launching basic QC checks...\n",
      "[2021-04-23 16:37:18,601] - obspy.clients.fdsn.mass_downloader - INFO: Client 'IRIS' - Downloaded 72.3 MB [3712.95 KB/sec] of data, 0.0 MB of which were discarded afterwards.\n",
      "[2021-04-23 16:37:18,601] - obspy.clients.fdsn.mass_downloader - INFO: Client 'IRIS' - Status for 3 time intervals/channels after downloading: DOWNLOADED\n",
      "[2021-04-23 16:37:18,608] - obspy.clients.fdsn.mass_downloader - INFO: Client 'IRIS' - No station information to download.\n",
      "[2021-04-23 16:37:18,609] - obspy.clients.fdsn.mass_downloader - INFO: ============================== Final report\n",
      "[2021-04-23 16:37:18,610] - obspy.clients.fdsn.mass_downloader - INFO: 0 MiniSEED files [0.0 MB] already existed.\n",
      "[2021-04-23 16:37:18,610] - obspy.clients.fdsn.mass_downloader - INFO: 1 StationXML files [0.3 MB] already existed.\n",
      "[2021-04-23 16:37:18,610] - obspy.clients.fdsn.mass_downloader - INFO: Client 'IRIS' - Acquired 3 MiniSEED files [72.3 MB].\n",
      "[2021-04-23 16:37:18,611] - obspy.clients.fdsn.mass_downloader - INFO: Client 'IRIS' - Acquired 0 StationXML files [0.0 MB].\n",
      "[2021-04-23 16:37:18,611] - obspy.clients.fdsn.mass_downloader - INFO: Downloaded 72.3 MB in total.\n"
     ]
    },
    {
     "name": "stdout",
     "output_type": "stream",
     "text": [
      "** done with --> NCHR -- NV -- 2018-08-04\n"
     ]
    }
   ],
   "source": [
    "from EQTransformer.utils.downloader import downloadMseeds\n",
    "\n",
    "downloadMseeds(client_list=[\"IRIS\"], stations_json='station_list.json', output_dir=\"downloads_mseeds\",min_lat =47.5 , max_lat = 48.5,min_lon=-129.4,max_lon=-128.8,start_time=\"2018-08-03 00:00:00.00\",end_time=\"2018-08-05 00:00:00.00\", chunk_size=1, channel_list=[\"HH[ZNE]\",\"EH[ZNE]\", \"HH[Z21]\",\"EH[Z21]\", \"CH[ZNE]\"], n_processor=1)"
   ]
  },
  {
   "cell_type": "code",
   "execution_count": null,
   "id": "281fb5c6",
   "metadata": {},
   "outputs": [],
   "source": [
    "from EQTransformer.utils.hdf5_maker import preprocessor\n",
    "\n",
    "preprocessor('/Users/zoekrauss/krauss-repo/hdfs','/Users/zoekrauss/krauss-repo/downloads_mseeds','/Users/zoekrauss/krauss-repo/station_list.json', overlap=0.3, n_processor=2)"
   ]
  },
  {
   "cell_type": "code",
   "execution_count": 7,
   "id": "8f3e3669",
   "metadata": {},
   "outputs": [
    {
     "name": "stdout",
     "output_type": "stream",
     "text": [
      "============================================================================\n",
      "Running EqTransformer  0.1.59\n",
      " *** Loading the model ...\n",
      "*** Loading is complete!\n",
      "============================================================================\n",
      " *** /Users/zoekrauss/krauss-repo/detections already exists!\n",
      " --> Type (Yes or y) to create a new empty directory! otherwise it will overwrite!   y\n",
      "######### There are files for 4 stations in /Users/zoekrauss/krauss-repo/downloads_mseeds_processed_hdfs directory. #########\n",
      "========= Started working on EqT_model, 1 out of 4 ...\n"
     ]
    },
    {
     "ename": "ParserError",
     "evalue": "Error tokenizing data. C error: Expected 1 fields in line 8, saw 2\n",
     "output_type": "error",
     "traceback": [
      "\u001b[0;31m---------------------------------------------------------------------------\u001b[0m",
      "\u001b[0;31mParserError\u001b[0m                               Traceback (most recent call last)",
      "\u001b[0;32m<ipython-input-7-7670f85e02ad>\u001b[0m in \u001b[0;36m<module>\u001b[0;34m\u001b[0m\n\u001b[1;32m      1\u001b[0m \u001b[0;32mfrom\u001b[0m \u001b[0mEQTransformer\u001b[0m\u001b[0;34m.\u001b[0m\u001b[0mcore\u001b[0m\u001b[0;34m.\u001b[0m\u001b[0mpredictor\u001b[0m \u001b[0;32mimport\u001b[0m \u001b[0mpredictor\u001b[0m\u001b[0;34m\u001b[0m\u001b[0;34m\u001b[0m\u001b[0m\n\u001b[0;32m----> 2\u001b[0;31m \u001b[0mpredictor\u001b[0m\u001b[0;34m(\u001b[0m\u001b[0minput_dir\u001b[0m\u001b[0;34m=\u001b[0m \u001b[0;34m'/Users/zoekrauss/krauss-repo/downloads_mseeds_processed_hdfs'\u001b[0m\u001b[0;34m,\u001b[0m \u001b[0minput_model\u001b[0m\u001b[0;34m=\u001b[0m\u001b[0;34m'/Users/zoekrauss/krauss-repo/EqT_model.h5'\u001b[0m\u001b[0;34m,\u001b[0m \u001b[0moutput_dir\u001b[0m\u001b[0;34m=\u001b[0m\u001b[0;34m'/Users/zoekrauss/krauss-repo/detections'\u001b[0m\u001b[0;34m,\u001b[0m \u001b[0mdetection_threshold\u001b[0m\u001b[0;34m=\u001b[0m\u001b[0;36m0.3\u001b[0m\u001b[0;34m,\u001b[0m \u001b[0mP_threshold\u001b[0m\u001b[0;34m=\u001b[0m\u001b[0;36m0.1\u001b[0m\u001b[0;34m,\u001b[0m \u001b[0mS_threshold\u001b[0m\u001b[0;34m=\u001b[0m\u001b[0;36m0.1\u001b[0m\u001b[0;34m,\u001b[0m \u001b[0mnumber_of_plots\u001b[0m\u001b[0;34m=\u001b[0m\u001b[0;36m100\u001b[0m\u001b[0;34m,\u001b[0m \u001b[0mplot_mode\u001b[0m\u001b[0;34m=\u001b[0m\u001b[0;34m'time'\u001b[0m\u001b[0;34m)\u001b[0m\u001b[0;34m\u001b[0m\u001b[0;34m\u001b[0m\u001b[0m\n\u001b[0m",
      "\u001b[0;32m~/anaconda3/envs/eqt/lib/python3.7/site-packages/EQTransformer/core/predictor.py\u001b[0m in \u001b[0;36mpredictor\u001b[0;34m(input_dir, input_model, output_dir, output_probabilities, detection_threshold, P_threshold, S_threshold, number_of_plots, plot_mode, estimate_uncertainty, number_of_sampling, loss_weights, loss_types, input_dimention, normalization_mode, batch_size, gpuid, gpu_limit, number_of_cpus, use_multiprocessing, keepPS, spLimit)\u001b[0m\n\u001b[1;32m    312\u001b[0m         \u001b[0mplt_n\u001b[0m \u001b[0;34m=\u001b[0m \u001b[0;36m0\u001b[0m\u001b[0;34m\u001b[0m\u001b[0;34m\u001b[0m\u001b[0m\n\u001b[1;32m    313\u001b[0m \u001b[0;34m\u001b[0m\u001b[0m\n\u001b[0;32m--> 314\u001b[0;31m         \u001b[0mdf\u001b[0m \u001b[0;34m=\u001b[0m \u001b[0mpd\u001b[0m\u001b[0;34m.\u001b[0m\u001b[0mread_csv\u001b[0m\u001b[0;34m(\u001b[0m\u001b[0margs\u001b[0m\u001b[0;34m[\u001b[0m\u001b[0;34m'input_csv'\u001b[0m\u001b[0;34m]\u001b[0m\u001b[0;34m)\u001b[0m\u001b[0;34m\u001b[0m\u001b[0;34m\u001b[0m\u001b[0m\n\u001b[0m\u001b[1;32m    315\u001b[0m         \u001b[0mprediction_list\u001b[0m \u001b[0;34m=\u001b[0m \u001b[0mdf\u001b[0m\u001b[0;34m.\u001b[0m\u001b[0mtrace_name\u001b[0m\u001b[0;34m.\u001b[0m\u001b[0mtolist\u001b[0m\u001b[0;34m(\u001b[0m\u001b[0;34m)\u001b[0m\u001b[0;34m\u001b[0m\u001b[0;34m\u001b[0m\u001b[0m\n\u001b[1;32m    316\u001b[0m         \u001b[0mfl\u001b[0m \u001b[0;34m=\u001b[0m \u001b[0mh5py\u001b[0m\u001b[0;34m.\u001b[0m\u001b[0mFile\u001b[0m\u001b[0;34m(\u001b[0m\u001b[0margs\u001b[0m\u001b[0;34m[\u001b[0m\u001b[0;34m'input_hdf5'\u001b[0m\u001b[0;34m]\u001b[0m\u001b[0;34m,\u001b[0m \u001b[0;34m'r'\u001b[0m\u001b[0;34m)\u001b[0m\u001b[0;34m\u001b[0m\u001b[0;34m\u001b[0m\u001b[0m\n",
      "\u001b[0;32m~/anaconda3/envs/eqt/lib/python3.7/site-packages/pandas/io/parsers.py\u001b[0m in \u001b[0;36mread_csv\u001b[0;34m(filepath_or_buffer, sep, delimiter, header, names, index_col, usecols, squeeze, prefix, mangle_dupe_cols, dtype, engine, converters, true_values, false_values, skipinitialspace, skiprows, skipfooter, nrows, na_values, keep_default_na, na_filter, verbose, skip_blank_lines, parse_dates, infer_datetime_format, keep_date_col, date_parser, dayfirst, cache_dates, iterator, chunksize, compression, thousands, decimal, lineterminator, quotechar, quoting, doublequote, escapechar, comment, encoding, dialect, error_bad_lines, warn_bad_lines, delim_whitespace, low_memory, memory_map, float_precision, storage_options)\u001b[0m\n\u001b[1;32m    608\u001b[0m     \u001b[0mkwds\u001b[0m\u001b[0;34m.\u001b[0m\u001b[0mupdate\u001b[0m\u001b[0;34m(\u001b[0m\u001b[0mkwds_defaults\u001b[0m\u001b[0;34m)\u001b[0m\u001b[0;34m\u001b[0m\u001b[0;34m\u001b[0m\u001b[0m\n\u001b[1;32m    609\u001b[0m \u001b[0;34m\u001b[0m\u001b[0m\n\u001b[0;32m--> 610\u001b[0;31m     \u001b[0;32mreturn\u001b[0m \u001b[0m_read\u001b[0m\u001b[0;34m(\u001b[0m\u001b[0mfilepath_or_buffer\u001b[0m\u001b[0;34m,\u001b[0m \u001b[0mkwds\u001b[0m\u001b[0;34m)\u001b[0m\u001b[0;34m\u001b[0m\u001b[0;34m\u001b[0m\u001b[0m\n\u001b[0m\u001b[1;32m    611\u001b[0m \u001b[0;34m\u001b[0m\u001b[0m\n\u001b[1;32m    612\u001b[0m \u001b[0;34m\u001b[0m\u001b[0m\n",
      "\u001b[0;32m~/anaconda3/envs/eqt/lib/python3.7/site-packages/pandas/io/parsers.py\u001b[0m in \u001b[0;36m_read\u001b[0;34m(filepath_or_buffer, kwds)\u001b[0m\n\u001b[1;32m    466\u001b[0m \u001b[0;34m\u001b[0m\u001b[0m\n\u001b[1;32m    467\u001b[0m     \u001b[0;32mwith\u001b[0m \u001b[0mparser\u001b[0m\u001b[0;34m:\u001b[0m\u001b[0;34m\u001b[0m\u001b[0;34m\u001b[0m\u001b[0m\n\u001b[0;32m--> 468\u001b[0;31m         \u001b[0;32mreturn\u001b[0m \u001b[0mparser\u001b[0m\u001b[0;34m.\u001b[0m\u001b[0mread\u001b[0m\u001b[0;34m(\u001b[0m\u001b[0mnrows\u001b[0m\u001b[0;34m)\u001b[0m\u001b[0;34m\u001b[0m\u001b[0;34m\u001b[0m\u001b[0m\n\u001b[0m\u001b[1;32m    469\u001b[0m \u001b[0;34m\u001b[0m\u001b[0m\n\u001b[1;32m    470\u001b[0m \u001b[0;34m\u001b[0m\u001b[0m\n",
      "\u001b[0;32m~/anaconda3/envs/eqt/lib/python3.7/site-packages/pandas/io/parsers.py\u001b[0m in \u001b[0;36mread\u001b[0;34m(self, nrows)\u001b[0m\n\u001b[1;32m   1055\u001b[0m     \u001b[0;32mdef\u001b[0m \u001b[0mread\u001b[0m\u001b[0;34m(\u001b[0m\u001b[0mself\u001b[0m\u001b[0;34m,\u001b[0m \u001b[0mnrows\u001b[0m\u001b[0;34m=\u001b[0m\u001b[0;32mNone\u001b[0m\u001b[0;34m)\u001b[0m\u001b[0;34m:\u001b[0m\u001b[0;34m\u001b[0m\u001b[0;34m\u001b[0m\u001b[0m\n\u001b[1;32m   1056\u001b[0m         \u001b[0mnrows\u001b[0m \u001b[0;34m=\u001b[0m \u001b[0mvalidate_integer\u001b[0m\u001b[0;34m(\u001b[0m\u001b[0;34m\"nrows\"\u001b[0m\u001b[0;34m,\u001b[0m \u001b[0mnrows\u001b[0m\u001b[0;34m)\u001b[0m\u001b[0;34m\u001b[0m\u001b[0;34m\u001b[0m\u001b[0m\n\u001b[0;32m-> 1057\u001b[0;31m         \u001b[0mindex\u001b[0m\u001b[0;34m,\u001b[0m \u001b[0mcolumns\u001b[0m\u001b[0;34m,\u001b[0m \u001b[0mcol_dict\u001b[0m \u001b[0;34m=\u001b[0m \u001b[0mself\u001b[0m\u001b[0;34m.\u001b[0m\u001b[0m_engine\u001b[0m\u001b[0;34m.\u001b[0m\u001b[0mread\u001b[0m\u001b[0;34m(\u001b[0m\u001b[0mnrows\u001b[0m\u001b[0;34m)\u001b[0m\u001b[0;34m\u001b[0m\u001b[0;34m\u001b[0m\u001b[0m\n\u001b[0m\u001b[1;32m   1058\u001b[0m \u001b[0;34m\u001b[0m\u001b[0m\n\u001b[1;32m   1059\u001b[0m         \u001b[0;32mif\u001b[0m \u001b[0mindex\u001b[0m \u001b[0;32mis\u001b[0m \u001b[0;32mNone\u001b[0m\u001b[0;34m:\u001b[0m\u001b[0;34m\u001b[0m\u001b[0;34m\u001b[0m\u001b[0m\n",
      "\u001b[0;32m~/anaconda3/envs/eqt/lib/python3.7/site-packages/pandas/io/parsers.py\u001b[0m in \u001b[0;36mread\u001b[0;34m(self, nrows)\u001b[0m\n\u001b[1;32m   2059\u001b[0m     \u001b[0;32mdef\u001b[0m \u001b[0mread\u001b[0m\u001b[0;34m(\u001b[0m\u001b[0mself\u001b[0m\u001b[0;34m,\u001b[0m \u001b[0mnrows\u001b[0m\u001b[0;34m=\u001b[0m\u001b[0;32mNone\u001b[0m\u001b[0;34m)\u001b[0m\u001b[0;34m:\u001b[0m\u001b[0;34m\u001b[0m\u001b[0;34m\u001b[0m\u001b[0m\n\u001b[1;32m   2060\u001b[0m         \u001b[0;32mtry\u001b[0m\u001b[0;34m:\u001b[0m\u001b[0;34m\u001b[0m\u001b[0;34m\u001b[0m\u001b[0m\n\u001b[0;32m-> 2061\u001b[0;31m             \u001b[0mdata\u001b[0m \u001b[0;34m=\u001b[0m \u001b[0mself\u001b[0m\u001b[0;34m.\u001b[0m\u001b[0m_reader\u001b[0m\u001b[0;34m.\u001b[0m\u001b[0mread\u001b[0m\u001b[0;34m(\u001b[0m\u001b[0mnrows\u001b[0m\u001b[0;34m)\u001b[0m\u001b[0;34m\u001b[0m\u001b[0;34m\u001b[0m\u001b[0m\n\u001b[0m\u001b[1;32m   2062\u001b[0m         \u001b[0;32mexcept\u001b[0m \u001b[0mStopIteration\u001b[0m\u001b[0;34m:\u001b[0m\u001b[0;34m\u001b[0m\u001b[0;34m\u001b[0m\u001b[0m\n\u001b[1;32m   2063\u001b[0m             \u001b[0;32mif\u001b[0m \u001b[0mself\u001b[0m\u001b[0;34m.\u001b[0m\u001b[0m_first_chunk\u001b[0m\u001b[0;34m:\u001b[0m\u001b[0;34m\u001b[0m\u001b[0;34m\u001b[0m\u001b[0m\n",
      "\u001b[0;32mpandas/_libs/parsers.pyx\u001b[0m in \u001b[0;36mpandas._libs.parsers.TextReader.read\u001b[0;34m()\u001b[0m\n",
      "\u001b[0;32mpandas/_libs/parsers.pyx\u001b[0m in \u001b[0;36mpandas._libs.parsers.TextReader._read_low_memory\u001b[0;34m()\u001b[0m\n",
      "\u001b[0;32mpandas/_libs/parsers.pyx\u001b[0m in \u001b[0;36mpandas._libs.parsers.TextReader._read_rows\u001b[0;34m()\u001b[0m\n",
      "\u001b[0;32mpandas/_libs/parsers.pyx\u001b[0m in \u001b[0;36mpandas._libs.parsers.TextReader._tokenize_rows\u001b[0;34m()\u001b[0m\n",
      "\u001b[0;32mpandas/_libs/parsers.pyx\u001b[0m in \u001b[0;36mpandas._libs.parsers.raise_parser_error\u001b[0;34m()\u001b[0m\n",
      "\u001b[0;31mParserError\u001b[0m: Error tokenizing data. C error: Expected 1 fields in line 8, saw 2\n"
     ]
    }
   ],
   "source": [
    "from EQTransformer.core.predictor import predictor\n",
    "predictor(input_dir= '/Users/zoekrauss/krauss-repo/downloads_mseeds_processed_hdfs', input_model='/Users/zoekrauss/krauss-repo/EqT_model.h5', output_dir='/Users/zoekrauss/krauss-repo/detections', detection_threshold=0.3, P_threshold=0.1, S_threshold=0.1, number_of_plots=100, plot_mode='time')"
   ]
  },
  {
   "cell_type": "code",
   "execution_count": null,
   "id": "65aeacab",
   "metadata": {
    "scrolled": true
   },
   "outputs": [
    {
     "name": "stderr",
     "output_type": "stream",
     "text": [
      "Using TensorFlow backend.\n",
      "04-23 17:44 [INFO] [EQTransformer] Running EqTransformer  0.1.59\n",
      "04-23 17:44 [INFO] [EQTransformer] *** Loading the model ...\n",
      "04-23 17:45 [INFO] [EQTransformer] *** Loading is complete!\n",
      "04-23 17:45 [INFO] [EQTransformer] *** /Users/zoekrauss/ESS590F/krauss-repo/detection_results already exists!\n"
     ]
    }
   ],
   "source": [
    "from EQTransformer.core.mseed_predictor import mseed_predictor\n",
    "    \n",
    "mseed_predictor(input_dir='downloads_mseeds',   \n",
    "                    input_model='ModelsAndSampleData/EqT_model.h5',\n",
    "                    stations_json='station_list.json',\n",
    "                    output_dir='detection_results',\n",
    "                    detection_threshold=0.2,                \n",
    "                    P_threshold=0.1,\n",
    "                    S_threshold=0.1, \n",
    "                    number_of_plots=10,\n",
    "                    plot_mode='time_frequency',\n",
    "                    batch_size=20,\n",
    "                    overlap=0.3)"
   ]
  }
 ],
 "metadata": {
  "kernelspec": {
   "display_name": "eqt",
   "language": "python",
   "name": "eqt"
  },
  "language_info": {
   "codemirror_mode": {
    "name": "ipython",
    "version": 3
   },
   "file_extension": ".py",
   "mimetype": "text/x-python",
   "name": "python",
   "nbconvert_exporter": "python",
   "pygments_lexer": "ipython3",
   "version": "3.7.10"
  }
 },
 "nbformat": 4,
 "nbformat_minor": 5
}
