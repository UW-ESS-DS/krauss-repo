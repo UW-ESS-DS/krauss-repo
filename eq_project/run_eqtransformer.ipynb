{
 "cells": [
  {
   "cell_type": "markdown",
   "metadata": {},
   "source": [
    "This notebook is used to run EQTransformer on downloaded miniseed data, and assess its performance in picking P- and S-waves.\n",
    "\n",
    "The notebook also includes the steps to download the waveform data in miniseed format. No miniseeds are stored in GitHub since they are too large.\n",
    "\n",
    "This notebook is specifically designed to run in Google CoLab, since the EQTransformer model requires significant memory and benefits from a GPU to run. \n",
    "\n",
    "There are 4 sections:\n",
    "- Environment and Repository Set-up\n",
    "- Download Data\n",
    "- Perform Detections\n",
    "- Analyze Results"
   ]
  },
  {
   "cell_type": "markdown",
   "metadata": {
    "id": "SXxBtoOxZuBf"
   },
   "source": [
    "# Environment and Repository Set-up"
   ]
  },
  {
   "cell_type": "code",
   "execution_count": null,
   "metadata": {
    "id": "VDXJdhFYnHF1"
   },
   "outputs": [],
   "source": [
    "# Import modules\n",
    "\n",
    "import numpy as np\n",
    "import pandas as pd\n",
    "import shutil\n",
    "import os\n",
    "from zipfile import ZipFile\n",
    "import glob\n",
    "from datetime import datetime, timedelta\n",
    "import matplotlib.pyplot as plt\n",
    "!pip install obspy"
   ]
  },
  {
   "cell_type": "code",
   "execution_count": null,
   "metadata": {
    "id": "m7gCZY6wpZ7j"
   },
   "outputs": [],
   "source": [
    "# Install and set-up EQTransformer following installation via git\n",
    "\n",
    "# NOTE: if using Google CoLab, make sure the runtime includes GPU before starting\n",
    "!pip install git+https://github.com/smousavi05/EQTransformer\n",
    "# This method of setup does not require the curation of the local environment, which is why it is useful when using a platform such as Google CoLab.\n",
    "\n",
    "# If using Google CoLab, restart the runtime after this install.\n",
    "# The platform will not recognize your new setup if it is not restarted and will throw errors.\n"
   ]
  },
  {
   "cell_type": "code",
   "execution_count": null,
   "metadata": {
    "id": "Ud5FZnqCw8Zg"
   },
   "outputs": [],
   "source": [
    "# Clone in the repository setup\n",
    "\n",
    "!git clone https://github.com/UW-ESS-DS/krauss-repo"
   ]
  },
  {
   "cell_type": "code",
   "execution_count": null,
   "metadata": {
    "id": "T7EOl4W_ns4e"
   },
   "outputs": [],
   "source": [
    "# Mount Google Drive if retrieving data or saving data to the cloud\n",
    "# WARNING: this will connect to all Shared Drives in your name. Proceed with caution.\n",
    "\n",
    "from google.colab import drive\n",
    "drive.mount('/content/gdrive/')\n"
   ]
  },
  {
   "cell_type": "markdown",
   "metadata": {
    "id": "FylBki4NZ6R-"
   },
   "source": [
    "# Download Data"
   ]
  },
  {
   "cell_type": "code",
   "execution_count": null,
   "metadata": {
    "id": "8niOPizpqUzw"
   },
   "outputs": [],
   "source": [
    "# Make list of stations to query\n",
    "\n",
    "from EQTransformer.utils.downloader import makeStationList\n",
    "\n",
    "# For all stations in the Endeavour network:\n",
    "makeStationList('/content/stationlist.json',client_list=[\"IRIS\"],min_lat =47.5 , max_lat = 48.5,min_lon=-129.4,max_lon=-128.8,start_time='2018-08-03T00:00:00',end_time='2018-08-05T00:00:00',channel_list=['HH[ZNE]','EH[ZNE]', 'HH[Z21]','EH[Z21]', 'CH[ZNE]'],filter_network=['SY'])\n",
    "\n",
    "# For just one station, for example, ENWF, filter the other station names:\n",
    "# makeStationList('/content/stationlist_ENWF.json',client_list=[\"IRIS\"],min_lat =47.5 , max_lat = 48.5,min_lon=-129.4,max_lon=-128.8,start_time='2018-08-03T00:00:00',end_time='2018-08-05T00:00:00',channel_list=['HH[ZNE]','EH[ZNE]', 'HH[Z21]','EH[Z21]', 'CH[ZNE]'],filter_network=['SY'],filter_station=['ENEF','ENHR','KEMF','KEMO','NCHR'])"
   ]
  },
  {
   "cell_type": "code",
   "execution_count": null,
   "metadata": {
    "id": "gJbFqfr3-vln"
   },
   "outputs": [],
   "source": [
    "# Download the mseeds, which is the actual seismic time series data, for desired time period\n",
    "# This will just save to the current directory\n",
    "\n",
    "from EQTransformer.utils.downloader import downloadMseeds\n",
    "\n",
    "stime = \"2018-08-01 00:00:00.00\"\n",
    "ftime = \"2018-08-05 00:00:00.00\"\n",
    "\n",
    "downloadMseeds(client_list=[\"IRIS\"], stations_json='stationlist.json', output_dir=\"downloads_mseeds_august3_2018\",min_lat =47.5 , max_lat = 48.5,min_lon=-129.4,max_lon=-128.8,start_time=stime,end_time=ftime, chunk_size=1, channel_list=[\"HH[ZNE]\",\"EH[ZNE]\", \"HH[Z21]\",\"EH[Z21]\", \"CH[ZNE]\"], n_processor=1)\n",
    "\n",
    "\n"
   ]
  },
  {
   "cell_type": "code",
   "execution_count": null,
   "metadata": {
    "id": "NAvH_BqEBiBv"
   },
   "outputs": [],
   "source": [
    "# Save miniseeds to Google Drive, if desired\n",
    "# Note: Google drive must be mounted within CoLab to do this\n",
    "# specify your own file path!\n",
    "\n",
    "# Zip and save mseed folders:\n",
    "!zip -r /content/gdrive/MyDrive/Colab_Notebooks/downloads_mseeds_august1_5.zip /content/downloads_mseeds_august3_2018\n"
   ]
  },
  {
   "cell_type": "markdown",
   "metadata": {
    "id": "qBWX74WyaRA4"
   },
   "source": [
    "# Perform detections\n"
   ]
  },
  {
   "cell_type": "code",
   "execution_count": null,
   "metadata": {},
   "outputs": [],
   "source": [
    "# Start by defining desired detection parameters\n",
    "\n",
    "detection_threshold = 0.2\n",
    "P_threshold = 0.1\n",
    "S_threshold = 0.1\n",
    "batch_size = 20\n",
    "overlap = 0.3"
   ]
  },
  {
   "cell_type": "code",
   "execution_count": null,
   "metadata": {
    "id": "mO2B4ICY3jFI"
   },
   "outputs": [],
   "source": [
    "# Run the pre-trained CNN model directly on locally downloaded miniseed waveforms\n",
    "\n",
    "from EQTransformer.core.mseed_predictor import mseed_predictor\n",
    "    \n",
    "mseed_predictor(input_dir='downloads_mseeds_august3_2018',   \n",
    "                    input_model='/content/krauss-repo/eq_project/eqtransformer_local/ModelsAndSampleData/EqT_model.h5',\n",
    "                    stations_json='stationlist.json',\n",
    "                    output_dir='detection_results_august1-5_2018',\n",
    "                    detection_threshold=detection_threshold,                \n",
    "                    P_threshold=P_threshold,\n",
    "                    S_threshold=S_threshold, \n",
    "                    number_of_plots=10,\n",
    "                    plot_mode='time_frequency',\n",
    "                    batch_size=batch_size,\n",
    "                    overlap=overlap)"
   ]
  },
  {
   "cell_type": "code",
   "execution_count": null,
   "metadata": {
    "id": "UwuQS9QtnvMX"
   },
   "outputs": [],
   "source": [
    "# Save to google drive, if desired\n",
    "\n",
    "# Zip and save detection folder:\n",
    "!zip -r /content/gdrive/MyDrive/Colab_Notebooks/detection_results_august1-5_2018.zip /content/detection_results_august1-5_2018\n",
    "# Save time tracks:\n",
    "#!mv \"/content/time_tracks.pkl\" \"/content/gdrive/MyDrive/Colab_Notebooks/time_tracks.pkl\""
   ]
  },
  {
   "cell_type": "markdown",
   "metadata": {
    "id": "YPCA1iaBaYmX"
   },
   "source": [
    "# Analyze Results\n"
   ]
  },
  {
   "cell_type": "markdown",
   "metadata": {},
   "source": [
    "Start by reading in the EQTransformer detections, if necessary."
   ]
  },
  {
   "cell_type": "code",
   "execution_count": null,
   "metadata": {
    "id": "NuZvIwFkaJBc"
   },
   "outputs": [],
   "source": [
    "# If unzipping pre-saved detections:\n",
    "\n",
    "# From Google Drive:\n",
    "#zipfilepath = '/content/gdrive/MyDrive/Colab_Notebooks/detection_results_august1-5_2018.zip'\n",
    "# From within the github:\n",
    "zipfilepath = 'krauss-repo/eq_project/detection_results_august1-5_2018.zip'\n",
    "\n",
    "# opening the zip file in READ mode\n",
    "with ZipFile(zipfilename, 'r') as zip:\n",
    "    # printing all the contents of the zip file\n",
    "    zip.printdir()\n",
    "  \n",
    "    # extracting all the files\n",
    "    print('Extracting all the files now...')\n",
    "    zip.extractall()\n",
    "    print('Done!')"
   ]
  },
  {
   "cell_type": "markdown",
   "metadata": {},
   "source": [
    "Turn the output from EQTransformer detections, which are saved as csv, into a convenient pandas dataframe."
   ]
  },
  {
   "cell_type": "code",
   "execution_count": null,
   "metadata": {
    "id": "JqUpEgM0JdkA"
   },
   "outputs": [],
   "source": [
    "# Make a pandas dataframe of the output detections\n",
    "\n",
    "# Concat list of all csv files from unzipped directory\n",
    "\n",
    "bigdir = '/content/content/detection_results_august1-5_2018'\n",
    "\n",
    "\n",
    "folder_list = glob.glob(bigdir + \"/*\") # Include slash or it will search in the wrong directory!!\n",
    "file_list = []\n",
    "for folder in folder_list:\n",
    "  file_list.append(glob.glob(folder+\"/*.csv\"))\n",
    "\n",
    "# Read data into pandas dataframe\n",
    "data = pd.concat([pd.read_csv(f[0]) for f in file_list])\n",
    "# Change time columns to datetime format\n",
    "startdate = pd.to_datetime(data['event_start_time'], format='%Y-%m-%d %H:%M:%S');\n",
    "enddate = pd.to_datetime(data['event_end_time'], format='%Y-%m-%d %H:%M:%S');\n",
    "p_time = pd.to_datetime(data['p_arrival_time'], format='%Y-%m-%d %H:%M:%S');\n",
    "s_time = pd.to_datetime(data['s_arrival_time'], format='%Y-%m-%d %H:%M:%S');\n",
    "data['start_time'] = startdate;data['end_time'] = enddate\n",
    "data['ptime'] = p_time\n",
    "data['stime'] = s_time\n",
    "\n",
    "# Split into station subsets\n",
    "new_kemf = data.loc[(data.station=='KEMF')].copy()\n",
    "new_enwf = data.loc[(data.station=='ENWF')].copy()\n",
    "new_enhr = data.loc[(data.station=='ENHR')].copy()\n",
    "new_kemo = data.loc[(data.station=='KEMO')].copy()"
   ]
  },
  {
   "cell_type": "markdown",
   "metadata": {},
   "source": [
    "Read in the \"true\" data, arrival times calculated using traditional methods, from csv. The data also include other information about each earthquake - location, magnitude, etc. Save data to pandas dataframe similar to EQTransformer detections."
   ]
  },
  {
   "cell_type": "code",
   "execution_count": null,
   "metadata": {
    "colab": {
     "base_uri": "https://localhost:8080/",
     "height": 204
    },
    "id": "J8ByvTJk8l09",
    "outputId": "7eb91712-860d-4d30-9103-c77967f90395"
   },
   "outputs": [
    {
     "data": {
      "text/html": [
       "<div>\n",
       "<style scoped>\n",
       "    .dataframe tbody tr th:only-of-type {\n",
       "        vertical-align: middle;\n",
       "    }\n",
       "\n",
       "    .dataframe tbody tr th {\n",
       "        vertical-align: top;\n",
       "    }\n",
       "\n",
       "    .dataframe thead th {\n",
       "        text-align: right;\n",
       "    }\n",
       "</style>\n",
       "<table border=\"1\" class=\"dataframe\">\n",
       "  <thead>\n",
       "    <tr style=\"text-align: right;\">\n",
       "      <th></th>\n",
       "      <th>originTime</th>\n",
       "      <th>ptime</th>\n",
       "      <th>stime</th>\n",
       "      <th>magnitude</th>\n",
       "      <th>nwp</th>\n",
       "      <th>nws</th>\n",
       "    </tr>\n",
       "  </thead>\n",
       "  <tbody>\n",
       "    <tr>\n",
       "      <th>147</th>\n",
       "      <td>2018-08-04 03:04:44</td>\n",
       "      <td>2018-08-04 03:04:44</td>\n",
       "      <td>2018-08-04 03:04:45</td>\n",
       "      <td>-0.278247</td>\n",
       "      <td>3</td>\n",
       "      <td>4</td>\n",
       "    </tr>\n",
       "    <tr>\n",
       "      <th>148</th>\n",
       "      <td>2018-08-04 04:10:08</td>\n",
       "      <td>2018-08-04 04:10:09</td>\n",
       "      <td>2018-08-04 04:10:10</td>\n",
       "      <td>1.037020</td>\n",
       "      <td>3</td>\n",
       "      <td>4</td>\n",
       "    </tr>\n",
       "    <tr>\n",
       "      <th>149</th>\n",
       "      <td>2018-08-04 04:18:22</td>\n",
       "      <td>NaT</td>\n",
       "      <td>2018-08-04 04:18:33</td>\n",
       "      <td>1.632591</td>\n",
       "      <td>2</td>\n",
       "      <td>4</td>\n",
       "    </tr>\n",
       "    <tr>\n",
       "      <th>150</th>\n",
       "      <td>2018-08-04 04:31:14</td>\n",
       "      <td>2018-08-04 04:31:15</td>\n",
       "      <td>2018-08-04 04:31:15</td>\n",
       "      <td>0.338127</td>\n",
       "      <td>4</td>\n",
       "      <td>4</td>\n",
       "    </tr>\n",
       "    <tr>\n",
       "      <th>151</th>\n",
       "      <td>2018-08-04 04:46:50</td>\n",
       "      <td>2018-08-04 04:46:51</td>\n",
       "      <td>2018-08-04 04:46:52</td>\n",
       "      <td>0.052909</td>\n",
       "      <td>2</td>\n",
       "      <td>4</td>\n",
       "    </tr>\n",
       "  </tbody>\n",
       "</table>\n",
       "</div>"
      ],
      "text/plain": [
       "             originTime               ptime  ... nwp  nws\n",
       "147 2018-08-04 03:04:44 2018-08-04 03:04:44  ...   3    4\n",
       "148 2018-08-04 04:10:08 2018-08-04 04:10:09  ...   3    4\n",
       "149 2018-08-04 04:18:22                 NaT  ...   2    4\n",
       "150 2018-08-04 04:31:14 2018-08-04 04:31:15  ...   4    4\n",
       "151 2018-08-04 04:46:50 2018-08-04 04:46:51  ...   2    4\n",
       "\n",
       "[5 rows x 6 columns]"
      ]
     },
     "execution_count": 17,
     "metadata": {
      "tags": []
     },
     "output_type": "execute_result"
    }
   ],
   "source": [
    "# Read in MATLAB \"true\" detections from csv for August 2018\n",
    "\n",
    "# Desired time band:\n",
    "startdate = datetime(2018,8,4)\n",
    "enddate = datetime(2018,8,5)\n",
    "\n",
    "# Specify location of csv\n",
    "# From Google drive:\n",
    "#og_eqs = pd.read_csv('/content/gdrive/Shareddrives/ESS490_Spring2021/August2018_EndEarthquakes.csv')\n",
    "# From within github:\n",
    "og_eqs = pd.read_csv('krauss-repo/eq_project/August2018_EarthquakeData.csv')\n",
    "\n",
    "# Filter it down to just the dates you want to compare\n",
    "origintime = pd.to_datetime(og_eqs['originTime']);\n",
    "og_eqs['originTime'] = origintime\n",
    "og_eqs = og_eqs.loc[(og_eqs.originTime>startdate) & (og_eqs.originTime<enddate)]\n",
    "\n",
    "# Turn time columns into datetime format\n",
    "og_eqs['KEMF_P_time'] = pd.to_datetime(og_eqs['KEMF_P_time'])\n",
    "og_eqs['KEMF_S_time'] = pd.to_datetime(og_eqs['KEMF_S_time'])\n",
    "og_eqs['KEMO_P_time'] = pd.to_datetime(og_eqs['KEMO_P_time'])\n",
    "og_eqs['KEMO_S_time'] = pd.to_datetime(og_eqs['KEMO_S_time'])\n",
    "og_eqs['ENWF_P_time'] = pd.to_datetime(og_eqs['ENWF_P_time'])\n",
    "og_eqs['ENWF_S_time'] = pd.to_datetime(og_eqs['ENWF_S_time'])\n",
    "og_eqs['ENHR_P_time'] = pd.to_datetime(og_eqs['ENHR_P_time'])\n",
    "og_eqs['ENHR_S_time'] = pd.to_datetime(og_eqs['ENHR_S_time'])\n",
    "\n",
    "# Split into station subsets\n",
    "org_kemf = og_eqs[['originTime','KEMF_P_time','KEMF_S_time','magnitude','nwp','nws']].copy()\n",
    "org_enwf = og_eqs[['originTime','ENWF_P_time','ENWF_S_time','magnitude','nwp','nws']].copy()\n",
    "org_enhr = og_eqs[['originTime','ENHR_P_time','ENHR_S_time','magnitude','nwp','nws']].copy()\n",
    "org_kemo = og_eqs[['originTime','KEMO_P_time','KEMO_S_time','magnitude','nwp','nws']].copy()\n",
    "\n",
    "# Rename columns to match the other dataframe\n",
    "org_kemf.rename(columns={'KEMF_P_time':'ptime','KEMF_S_time':'stime'},inplace=True)\n",
    "org_kemo.rename(columns={'KEMO_P_time':'ptime','KEMO_S_time':'stime'},inplace=True)\n",
    "org_enwf.rename(columns={'ENWF_P_time':'ptime','ENWF_S_time':'stime'},inplace=True)\n",
    "org_enhr.rename(columns={'ENHR_P_time':'ptime','ENHR_S_time':'stime'},inplace=True)\n",
    "\n",
    "# Check it out to see if all looks good!\n",
    "org_kemf.head()"
   ]
  },
  {
   "cell_type": "markdown",
   "metadata": {},
   "source": [
    "Now we can start to see how they stack up!"
   ]
  },
  {
   "cell_type": "code",
   "execution_count": null,
   "metadata": {
    "colab": {
     "base_uri": "https://localhost:8080/",
     "height": 282
    },
    "id": "P5A4m2nj0Rdu",
    "outputId": "cc82482a-0d96-4066-d5ba-63736ef1b79e"
   },
   "outputs": [
    {
     "name": "stdout",
     "output_type": "stream",
     "text": [
      "2\n"
     ]
    },
    {
     "data": {
      "image/png": "[encoded data removed]",
      "text/plain": [
       "<Figure size 432x288 with 1 Axes>"
      ]
     },
     "metadata": {
      "needs_background": "light",
      "tags": []
     },
     "output_type": "display_data"
    }
   ],
   "source": [
    "# A way to visualize which and how many detections are lining up in time:\n",
    "# Scatter plot the true time arrivals, and overlay the EQTransformer detections\n",
    "\n",
    "# Filter to desired time band\n",
    "new_enwf = new_enwf.loc[(new_enwf.ptime>startdate) & (new_enwf.ptime<enddate)]\n",
    "\n",
    "fig,ax = plt.subplots()\n",
    "ax.scatter(org_enwf['ENWF_S_time'],np.zeros(len(org_enwf)))\n",
    "\n",
    "# Define successful EQTransformer detections as those that occur within 2 seconds of true detections\n",
    "success = []\n",
    "for i in org_enwf['ENWF_P_time']:\n",
    "  differ = new_enwf['ptime'] - i\n",
    "  if any(abs(differ)<timedelta(seconds=2)):\n",
    "    success.append(min(abs(differ)))\n",
    "\n",
    "S_success = []\n",
    "for i in org_enwf['ENWF_S_time']:\n",
    "  differ = new_enwf['stime'] - i\n",
    "  if any(abs(differ)<timedelta(seconds=2)):\n",
    "    S_success.append(min(abs(differ)))\n",
    "\n",
    "for i in new_enwf['ptime'].dropna():\n",
    "  ax.axvline(i) \n",
    "\n",
    "\n",
    "print(len(success))\n"
   ]
  },
  {
   "cell_type": "code",
   "execution_count": null,
   "metadata": {
    "id": "L8urYHYX24Gu"
   },
   "outputs": [],
   "source": [
    "def calc_performance(true_data,new_data):\n",
    "  '''\n",
    "  Reads in two vectors/pandas columns in datetime format\n",
    "  \n",
    "  Inputs:\n",
    "\n",
    "  true_data = vector containing the datetimes of a phase arrival (either P or S) as detected by traditional methods\n",
    "  new_data = vector containing the datetimes of a phase arrival (either P or S) as detected by EQTransformer\n",
    "  \n",
    "  NOTE: true_data must be longer than new_data in the way the code is written. \n",
    "\n",
    "  Matches occur when the timing of one arrival is within 2 seconds of another\n",
    "  \n",
    "  Returns: \n",
    "  \n",
    "  tp = number of true positives (number of matches)\n",
    "  fn = number of false negatives (number of traditional method detections that did not have an EQTransformer match)\n",
    "  fp = number of false positivies (number of EQTransformer detections that did not have a traditional detection match)\n",
    "  '''\n",
    "     success = []\n",
    "     for i in true_data:\n",
    "      differ = new_data - i\n",
    "      if any(abs(differ)<timedelta(seconds=2)):\n",
    "        success.append(min(abs(differ)))\n",
    "     \n",
    "     # True positive\n",
    "     tp = len(success)\n",
    "     # False negative\n",
    "     fn = len(true_data) - len(success)\n",
    "     # False positive\n",
    "     fp = len(new_data) - len(success)\n",
    "     # Precision\n",
    "     prec = tp/(fp+tp)\n",
    "     # Recall\n",
    "     rec = tp / (tp + fn)\n",
    "     # F1 score\n",
    "     f1 = tp / (tp + (fn+fp)/2)\n",
    "\n",
    "     return(tp,fn,fp)\n",
    "\n",
    "\n"
   ]
  },
  {
   "cell_type": "code",
   "execution_count": null,
   "metadata": {
    "colab": {
     "base_uri": "https://localhost:8080/"
    },
    "id": "Zf_jSk2IfNpq",
    "outputId": "70646ca7-8f0a-43fc-d2a8-008a859fcb7a"
   },
   "outputs": [
    {
     "name": "stdout",
     "output_type": "stream",
     "text": [
      "  Station-Phase Pair True Positives False Negatives False Positives\n",
      "0             ENWF_P              2              79               3\n",
      "1             ENWF_S              4              77               1\n",
      "2             KEMF_P              4              77              16\n",
      "3             KEMF_S              6              75              14\n",
      "4             KEMO_P              5              76              11\n",
      "5             KEMO_S              5              76              11\n",
      "6             ENHR_P              3              78              42\n",
      "7             ENHR_S              9              72              36\n"
     ]
    }
   ],
   "source": [
    "# Make a dataframe that includes the performance analytics for each station/phase pair\n",
    "# Print out the results\n",
    "\n",
    "\n",
    "success = pd.DataFrame(columns=['Station-Phase Pair','True Positives','False Negatives','False Positives'])\n",
    "success['Station-Phase Pair'] = ['ENWF_P','ENWF_S','KEMF_P','KEMF_S','KEMO_P','KEMO_S','ENHR_P','ENHR_S']\n",
    "success['True Positives'].iloc[0],success['False Negatives'].iloc[0],success['False Positives'].iloc[0] = calc_performance(org_enwf['ptime'],new_enwf['ptime'])\n",
    "success['True Positives'].iloc[1],success['False Negatives'].iloc[1],success['False Positives'].iloc[1] = calc_performance(org_enwf['stime'],new_enwf['stime'])\n",
    "success['True Positives'].iloc[2],success['False Negatives'].iloc[2],success['False Positives'].iloc[2] = calc_performance(org_kemf['ptime'],new_kemf['ptime'])\n",
    "success['True Positives'].iloc[3],success['False Negatives'].iloc[3],success['False Positives'].iloc[3] = calc_performance(org_kemf['stime'],new_kemf['stime'])\n",
    "success['True Positives'].iloc[4],success['False Negatives'].iloc[4],success['False Positives'].iloc[4] = calc_performance(org_kemo['ptime'],new_kemo['ptime'])\n",
    "success['True Positives'].iloc[5],success['False Negatives'].iloc[5],success['False Positives'].iloc[5] = calc_performance(org_kemo['stime'],new_kemo['stime'])\n",
    "success['True Positives'].iloc[6],success['False Negatives'].iloc[6],success['False Positives'].iloc[6] = calc_performance(org_enhr['ptime'],new_enhr['ptime'])\n",
    "success['True Positives'].iloc[7],success['False Negatives'].iloc[7],success['False Positives'].iloc[7] = calc_performance(org_enhr['stime'],new_enhr['stime'])\n",
    "print(success)"
   ]
  },
  {
   "cell_type": "code",
   "execution_count": null,
   "metadata": {
    "colab": {
     "base_uri": "https://localhost:8080/"
    },
    "id": "xVeoYSV5mbX2",
    "outputId": "055b9198-e1a4-4a6b-fbd6-0785f81d8a6a"
   },
   "outputs": [
    {
     "name": "stdout",
     "output_type": "stream",
     "text": [
      "Default results:\n",
      "  Station-Phase Pair  True Positives  False Negatives  False Positives\n",
      "0             ENWF_P               2               79                4\n",
      "1             ENWF_S               5               76                1\n",
      "2             KEMF_P               3               78                5\n",
      "3             KEMF_S               6               75                2\n",
      "4             KEMO_P               7               74                2\n",
      "5             KEMO_S               6               75                3\n",
      "6             ENHR_P               2               79                8\n",
      "7             ENHR_S               9               72                1\n",
      "Detection threshold 0.3:\n",
      "  Station-Phase Pair  True Positives  False Negatives  False Positives\n",
      "0             ENWF_P               2               79                4\n",
      "1             ENWF_S               5               76                1\n",
      "2             KEMF_P               4               77                5\n",
      "3             KEMF_S               6               75                3\n",
      "4             KEMO_P               6               75                2\n",
      "5             KEMO_S               5               76                3\n",
      "6             ENHR_P               2               79                8\n",
      "7             ENHR_S               7               74                3\n",
      "Detection threshold 0.3:\n",
      "  Station-Phase Pair  True Positives  False Negatives  False Positives\n",
      "0             ENWF_P               2               79                4\n",
      "1             ENWF_S               5               76                1\n",
      "2             KEMF_P               4               77                5\n",
      "3             KEMF_S               7               74                2\n",
      "4             KEMO_P               7               74                2\n",
      "5             KEMO_S               7               74                2\n",
      "6             ENHR_P               2               79               12\n",
      "7             ENHR_S              11               70                3\n"
     ]
    }
   ],
   "source": [
    "# If analyzing the results of several detection runs, with different hyperparameters:\n",
    "\n",
    "# Read in finished runs\n",
    "\n",
    "# If in Google drive:\n",
    "test_folder = '/content/gdrive/Shareddrives/ESS490_Spring2021/True False Parameter Results/Success_Results'\n",
    "# If in github:\n",
    "test_folder = 'krauss-repo/eq_project/ParameterIteration_Results/Success_Results'\n",
    "\n",
    "test = pd.read_csv(test_folder+'/default_results')\n",
    "test.columns\n",
    "test.drop(columns='Unnamed: 0',inplace=True)\n",
    "print('Default results:')\n",
    "print(test)\n",
    "\n",
    "test2 = pd.read_csv(test_folder+'/dt_03_results')\n",
    "test2.columns\n",
    "test2.drop(columns='Unnamed: 0',inplace=True)\n",
    "print('Detection threshold 0.3:')\n",
    "print(test2)\n",
    "\n",
    "test3 = pd.read_csv(test_folder+'/bs_50_results')\n",
    "test3.columns\n",
    "test3.drop(columns='Unnamed: 0',inplace=True)\n",
    "print('Batch size 50:')\n",
    "print(test3)"
   ]
  },
  {
   "cell_type": "code",
   "execution_count": null,
   "metadata": {
    "colab": {
     "base_uri": "https://localhost:8080/"
    },
    "id": "PIPy09CahuP2",
    "outputId": "ce5ccca7-6df9-4d6a-d0e1-ffe510ae233c"
   },
   "outputs": [
    {
     "name": "stdout",
     "output_type": "stream",
     "text": [
      "     Magnitude  nwp  nws\n",
      "149   1.632591    2    4\n",
      "150   0.338127    4    4\n",
      "156   0.739630    3    4\n",
      "157  -0.114712    3    4\n",
      "161   0.967936    3    4\n",
      "165        NaN    1    4\n",
      "172   0.389003    4    4\n",
      "173   0.248404    3    4\n",
      "181   0.259680    3    4\n",
      "189   0.036561    2    4\n",
      "203  -0.310464    2    3\n",
      "221  -0.068506    3    4\n",
      "225        NaN    0    5\n",
      "226   0.096432    1    4\n"
     ]
    }
   ],
   "source": [
    "# Earthquake characteristic analysis - LOOKING AT THE DATA\n",
    "# To see if there is a clear trend in the magnitudes of earthquakes that are successfully detected, etc.\n",
    "\n",
    "def get_indices(true_data,new_data):\n",
    "  success=[]\n",
    "\n",
    "  counter = 0\n",
    "  # Save indices of successful matches\n",
    "  for i in true_data['ptime']:\n",
    "    counter += 1\n",
    "    differ = new_data['ptime'] - i\n",
    "    if any(abs(differ)<timedelta(seconds=2)):\n",
    "        # success.append(np.amin(abs(differ)))\n",
    "        success.append(counter)\n",
    "  counter = 0\n",
    "  for i in true_data['stime']:\n",
    "    counter += 1\n",
    "    differ = new_data['stime'] - i\n",
    "    if any(abs(differ)<timedelta(seconds=2)):\n",
    "        # success.append(np.amin(abs(differ)))\n",
    "        success.append(counter)\n",
    "  \n",
    "  return(success)\n",
    "\n",
    "success1 = get_indices(org_enhr,new_enhr)\n",
    "success2 = get_indices(org_enwf,new_enwf)\n",
    "success3 = get_indices(org_kemf,new_kemf)\n",
    "success4 = get_indices(org_kemo,new_kemo)\n",
    "all=success1+success2+success3+success4\n",
    "eq_stats = pd.DataFrame(columns=['Magnitude','nwp','nws'])\n",
    "eq_stats['Magnitude'] = org_kemf['magnitude'].iloc[np.unique(all)]\n",
    "eq_stats['nwp'] = org_kemf['nwp'].iloc[np.unique(all)]\n",
    "eq_stats['nws'] = org_kemf['nws'].iloc[np.unique(all)]\n",
    "print(eq_stats)"
   ]
  }
 ],
 "metadata": {
  "accelerator": "GPU",
  "colab": {
   "collapsed_sections": [],
   "name": "run_eqtransformer.ipynb",
   "provenance": [],
   "toc_visible": true
  },
  "kernelspec": {
   "display_name": "Python 3",
   "language": "python",
   "name": "python3"
  },
  "language_info": {
   "codemirror_mode": {
    "name": "ipython",
    "version": 3
   },
   "file_extension": ".py",
   "mimetype": "text/x-python",
   "name": "python",
   "nbconvert_exporter": "python",
   "pygments_lexer": "ipython3",
   "version": "3.9.2"
  }
 },
 "nbformat": 4,
 "nbformat_minor": 4
}
