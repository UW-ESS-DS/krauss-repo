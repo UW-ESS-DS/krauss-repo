{
 "cells": [
  {
   "cell_type": "markdown",
   "metadata": {},
   "source": [
    "### Just saying hello!\n",
    "\n",
    "This is my first line,  \n",
    "And this is my second. \n",
    "\n",
    "**This is a hello in bold.**\n",
    "\n",
    "*This is hello, slightly slanted.*"
   ]
  },
  {
   "cell_type": "code",
   "execution_count": 9,
   "metadata": {},
   "outputs": [
    {
     "name": "stdout",
     "output_type": "stream",
     "text": [
      "Hello to the world !\n"
     ]
    }
   ],
   "source": [
    "bigstring = ['Hello' ' ' 'to' ' ' 'the' ' ' 'world' ' ' '!']\n",
    "for i in bigstring:\n",
    "    print(i)\n"
   ]
  }
 ],
 "metadata": {
  "kernelspec": {
   "display_name": "autolocate",
   "language": "python",
   "name": "autolocate"
  },
  "language_info": {
   "codemirror_mode": {
    "name": "ipython",
    "version": 3
   },
   "file_extension": ".py",
   "mimetype": "text/x-python",
   "name": "python",
   "nbconvert_exporter": "python",
   "pygments_lexer": "ipython3",
   "version": "3.6.3"
  }
 },
 "nbformat": 4,
 "nbformat_minor": 2
}
